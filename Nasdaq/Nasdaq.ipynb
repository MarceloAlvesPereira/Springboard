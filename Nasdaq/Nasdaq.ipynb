{
 "cells": [
  {
   "cell_type": "markdown",
   "id": "3ce949e0",
   "metadata": {},
   "source": [
    "This exercise will require you to pull some data from https://data.nasdaq.com/ (formerly Quandl API).\n",
    "\n",
    "As a first step, you will need to register a free account on the https://data.nasdaq.com/ website.\n",
    "\n",
    "After you register, you will be provided with a unique API key, that you should store:\n",
    "\n",
    "Note: Use a .env file and put your key in there and python-dotenv to access it in this notebook.\n",
    "\n",
    "The code below uses a key that was used when generating this project but has since been deleted. Never submit your keys to source control. There is a .env-example file in this repository to illusrtate what you need. Copy that to a file called .env and use your own api key in that .env file. Make sure you also have a .gitignore file with a line for .env added to it.\n",
    "\n",
    "The standard Python gitignore is here you can just copy that"
   ]
  },
  {
   "cell_type": "code",
   "execution_count": 1,
   "id": "2301171f",
   "metadata": {
    "ExecuteTime": {
     "end_time": "2021-10-22T17:28:33.837778Z",
     "start_time": "2021-10-22T17:28:33.810851Z"
    }
   },
   "outputs": [],
   "source": [
    "# get api key from your .env file\n",
    "import os\n",
    "from dotenv import load_dotenv\n",
    "\n",
    "load_dotenv()\n",
    "API_KEY = os.getenv('NASDAQ_API_KEY')"
   ]
  },
  {
   "cell_type": "markdown",
   "id": "f5b1a388",
   "metadata": {},
   "source": [
    "Nasdaq Data has a large number of data sources, but, unfortunately, most of them require a Premium subscription. Still, there are also a good number of free datasets.\n",
    "\n",
    "For this mini project, we will focus on equities data from the Frankfurt Stock Exhange (FSE), which is available for free. We'll try and analyze the stock prices of a company called Carl Zeiss Meditec, which manufactures tools for eye examinations, as well as medical lasers for laser eye surgery: https://www.zeiss.com/meditec/int/home.html. The company is listed under the stock ticker AFX_X.\n",
    "\n",
    "You can find the detailed Nasdaq Data API instructions here: https://docs.data.nasdaq.com/docs/in-depth-usage\n",
    "\n",
    "While there is a dedicated Python package for connecting to the Nasdaq API, we would prefer that you use the requests package, which can be easily downloaded using pip or conda. You can find the documentation for the package here: http://docs.python-requests.org/en/master/\n",
    "\n",
    "Finally, apart from the requests package, you are encouraged to not use any third party Python packages, such as pandas, and instead focus on what's available in the Python Standard Library (the collections module might come in handy: https://pymotw.com/3/collections/). Also, since you won't have access to DataFrames, you are encouraged to us Python's native data structures - preferably dictionaries, though some questions can also be answered using lists. You can read more on these data structures here: https://docs.python.org/3/tutorial/datastructures.html\n",
    "\n",
    "Keep in mind that the JSON responses you will be getting from the API map almost one-to-one to Python's dictionaries. Unfortunately, they can be very nested, so make sure you read up on indexing dictionaries in the documentation provided above."
   ]
  },
  {
   "cell_type": "markdown",
   "id": "5ff01f96",
   "metadata": {},
   "source": [
    "Note: API's can change a bit with each version, for this exercise it is reccomended to use the nasdaq api at https://data.nasdaq.com/api/v3/. This is the same api as what used to be quandl so https://www.quandl.com/api/v3/ should work too.\n",
    "\n",
    "Hint: We are looking for the AFX_X data on the datasets/FSE/ dataset."
   ]
  },
  {
   "cell_type": "code",
   "execution_count": 2,
   "id": "0f1a1cf5",
   "metadata": {
    "ExecuteTime": {
     "end_time": "2021-10-22T17:28:33.963606Z",
     "start_time": "2021-10-22T17:28:33.838775Z"
    }
   },
   "outputs": [],
   "source": [
    "# First, import the relevant modules\n",
    "import requests"
   ]
  },
  {
   "cell_type": "code",
   "execution_count": 3,
   "id": "0b0b5030",
   "metadata": {
    "ExecuteTime": {
     "end_time": "2021-10-22T17:28:34.384799Z",
     "start_time": "2021-10-22T17:28:33.966566Z"
    }
   },
   "outputs": [],
   "source": [
    "# Now, call the Nasdaq API and pull out a small sample of the data (only one day) to get a glimpse\n",
    "# into the JSON structure that will be returned\n",
    "url = \"https://data.nasdaq.com/api/v3/datasets/FSE/AFX_X/data.json?start_date=2017-01-01&end_date=2017-01-01\"\n",
    "data = requests.get(url, auth=('user', API_KEY))"
   ]
  },
  {
   "cell_type": "code",
   "execution_count": 4,
   "id": "fe3f7cef",
   "metadata": {
    "ExecuteTime": {
     "end_time": "2021-10-22T17:28:34.400739Z",
     "start_time": "2021-10-22T17:28:34.386777Z"
    }
   },
   "outputs": [
    {
     "data": {
      "text/plain": [
       "<Response [200]>"
      ]
     },
     "execution_count": 4,
     "metadata": {},
     "output_type": "execute_result"
    }
   ],
   "source": [
    "# Inspect the JSON structure of the object you created, and take note of how nested it is,\n",
    "# as well as the overall structure\n",
    "\n",
    "# raw.status_code\n",
    "# raw.content\n",
    "# raw.headers['content-type']\n",
    "# raw.encoding\n",
    "# raw.text\n",
    "data"
   ]
  },
  {
   "cell_type": "markdown",
   "id": "4a3af0d8",
   "metadata": {},
   "source": [
    "These are your tasks for this mini project:\n",
    "\n",
    "1. Collect data from the Franfurt Stock Exchange, for the ticker AFX_X, for the whole year 2017 (keep in mind that the date format is YYYY-MM-DD)."
   ]
  },
  {
   "cell_type": "code",
   "execution_count": 5,
   "id": "1e0df174",
   "metadata": {
    "ExecuteTime": {
     "end_time": "2021-10-22T17:28:34.756189Z",
     "start_time": "2021-10-22T17:28:34.402734Z"
    }
   },
   "outputs": [],
   "source": [
    "url = \"https://data.nasdaq.com/api/v3/datasets/FSE/AFX_X/data.json?start_date=2017-01-01&end_date=2017-12-31\"\n",
    "data = requests.get(url, auth=('user', API_KEY))"
   ]
  },
  {
   "cell_type": "markdown",
   "id": "10a9ea28",
   "metadata": {},
   "source": [
    "2. Convert the returned JSON object into a Python dictionary."
   ]
  },
  {
   "cell_type": "code",
   "execution_count": 6,
   "id": "0ec4b245",
   "metadata": {
    "ExecuteTime": {
     "end_time": "2021-10-22T17:28:34.772181Z",
     "start_time": "2021-10-22T17:28:34.757189Z"
    }
   },
   "outputs": [
    {
     "name": "stdout",
     "output_type": "stream",
     "text": [
      "<class 'dict'>\n"
     ]
    }
   ],
   "source": [
    "d = data.json()\n",
    "columns = d['dataset_data']['column_names']\n",
    "print(type(d))\n",
    "# d"
   ]
  },
  {
   "cell_type": "markdown",
   "id": "7361d588",
   "metadata": {},
   "source": [
    "3. Calculate what the highest and lowest opening prices were for the stock in this period."
   ]
  },
  {
   "cell_type": "code",
   "execution_count": 7,
   "id": "08937d54",
   "metadata": {
    "ExecuteTime": {
     "end_time": "2021-10-22T17:28:34.788106Z",
     "start_time": "2021-10-22T17:28:34.776139Z"
    }
   },
   "outputs": [
    {
     "name": "stdout",
     "output_type": "stream",
     "text": [
      "Highest and lowest opening prices: 53.11, 34.0\n"
     ]
    }
   ],
   "source": [
    "c_open = columns.index('Open')\n",
    "\n",
    "opening_max = max([i[c_open] for i in d['dataset_data']['data'] if i[c_open] is not None])\n",
    "opening_min = min([i[c_open] for i in d['dataset_data']['data'] if i[c_open] is not None])\n",
    "\n",
    "print('Highest and lowest opening prices: ' + str(opening_max) + ', ' + str(opening_min))"
   ]
  },
  {
   "cell_type": "markdown",
   "id": "8a021395",
   "metadata": {},
   "source": [
    "4. What was the largest change in any one day (based on High and Low price)?"
   ]
  },
  {
   "cell_type": "code",
   "execution_count": 8,
   "id": "0f50836d",
   "metadata": {
    "ExecuteTime": {
     "end_time": "2021-10-22T17:28:34.804062Z",
     "start_time": "2021-10-22T17:28:34.791099Z"
    }
   },
   "outputs": [
    {
     "name": "stdout",
     "output_type": "stream",
     "text": [
      "Largest change in any one day: 2.81\n"
     ]
    }
   ],
   "source": [
    "c_high = columns.index('High')\n",
    "c_low =  columns.index('Low')\n",
    "\n",
    "day_change = max([abs(i[c_high] - i[c_low]) for i in d['dataset_data']['data'] if (i[c_high] is not None) and (i[c_low] is not None)])\n",
    "print('Largest change in any one day: ' + str(round(day_change,2)))"
   ]
  },
  {
   "cell_type": "markdown",
   "id": "654a14cf",
   "metadata": {},
   "source": [
    "5. What was the largest change between any two days (based on Closing Price)?"
   ]
  },
  {
   "cell_type": "code",
   "execution_count": 9,
   "id": "7a337763",
   "metadata": {
    "ExecuteTime": {
     "end_time": "2021-10-22T17:28:34.820129Z",
     "start_time": "2021-10-22T17:28:34.806057Z"
    }
   },
   "outputs": [
    {
     "name": "stdout",
     "output_type": "stream",
     "text": [
      "Largest change between any two days: 3.55\n"
     ]
    }
   ],
   "source": [
    "c_date = columns.index('Date')\n",
    "c_close = columns.index('Open')\n",
    "\n",
    "l = [[i[c_date], i[c_close]] for i in d['dataset_data']['data'] if i[c_close] is not None]\n",
    "s = sorted(l)\n",
    "# print(s)\n",
    "max_delta = 0\n",
    "for i, value in enumerate(s):\n",
    "    if i > 0:\n",
    "        delta = abs(s[i][1] - s[i-1][1])\n",
    "#         print(delta)\n",
    "        if delta > max_delta:\n",
    "            max_delta = delta\n",
    "print('Largest change between any two days: ' + str(round(max_delta,2)))"
   ]
  },
  {
   "cell_type": "markdown",
   "id": "faf0b2aa",
   "metadata": {},
   "source": [
    "6. What was the average daily trading volume during this year?"
   ]
  },
  {
   "cell_type": "code",
   "execution_count": 10,
   "id": "ac98be38",
   "metadata": {
    "ExecuteTime": {
     "end_time": "2021-10-22T17:28:34.836009Z",
     "start_time": "2021-10-22T17:28:34.822015Z"
    }
   },
   "outputs": [
    {
     "name": "stdout",
     "output_type": "stream",
     "text": [
      "Average daily trading volume : 89124.34\n"
     ]
    }
   ],
   "source": [
    "c_vol = columns.index('Traded Volume')\n",
    "mean_vol = sum([i[c_vol] for i in d['dataset_data']['data'] if i[c_vol] is not None]) / sum([1 for i in d['dataset_data']['data'] if i[c_vol] is not None])\n",
    "print('Average daily trading volume : ' + str(round(mean_vol,2)))"
   ]
  },
  {
   "cell_type": "markdown",
   "id": "31616bbd",
   "metadata": {},
   "source": [
    "7. (Optional) What was the median trading volume during this year. (Note: you may need to implement your own function for calculating the median.)"
   ]
  },
  {
   "cell_type": "code",
   "execution_count": 11,
   "id": "aec0e33b",
   "metadata": {
    "ExecuteTime": {
     "end_time": "2021-10-22T17:28:34.851967Z",
     "start_time": "2021-10-22T17:28:34.837988Z"
    }
   },
   "outputs": [
    {
     "name": "stdout",
     "output_type": "stream",
     "text": [
      "Median trading volume: 76286.0\n"
     ]
    }
   ],
   "source": [
    "def median(lst):\n",
    "    \n",
    "    n = len(l)\n",
    "    s = sorted(l)\n",
    "    return (sum(s[n//2-1:n//2+1])/2.0, s[n//2])[n % 2] if n else None\n",
    "\n",
    "c_vol = columns.index('Traded Volume')\n",
    "\n",
    "l = [i[c_vol] for i in d['dataset_data']['data'] if i[c_vol] is not None]\n",
    "close_median = median(list)\n",
    "print('Median trading volume: ' + str(round(close_median,2)))"
   ]
  }
 ],
 "metadata": {
  "hide_input": false,
  "kernelspec": {
   "display_name": "Python 3",
   "language": "python",
   "name": "python3"
  },
  "language_info": {
   "codemirror_mode": {
    "name": "ipython",
    "version": 3
   },
   "file_extension": ".py",
   "mimetype": "text/x-python",
   "name": "python",
   "nbconvert_exporter": "python",
   "pygments_lexer": "ipython3",
   "version": "3.8.10"
  },
  "toc": {
   "base_numbering": 1,
   "nav_menu": {},
   "number_sections": true,
   "sideBar": true,
   "skip_h1_title": false,
   "title_cell": "Table of Contents",
   "title_sidebar": "Contents",
   "toc_cell": false,
   "toc_position": {},
   "toc_section_display": true,
   "toc_window_display": false
  },
  "varInspector": {
   "cols": {
    "lenName": 16,
    "lenType": 16,
    "lenVar": 40
   },
   "kernels_config": {
    "python": {
     "delete_cmd_postfix": "",
     "delete_cmd_prefix": "del ",
     "library": "var_list.py",
     "varRefreshCmd": "print(var_dic_list())"
    },
    "r": {
     "delete_cmd_postfix": ") ",
     "delete_cmd_prefix": "rm(",
     "library": "var_list.r",
     "varRefreshCmd": "cat(var_dic_list()) "
    }
   },
   "types_to_exclude": [
    "module",
    "function",
    "builtin_function_or_method",
    "instance",
    "_Feature"
   ],
   "window_display": false
  }
 },
 "nbformat": 4,
 "nbformat_minor": 5
}
