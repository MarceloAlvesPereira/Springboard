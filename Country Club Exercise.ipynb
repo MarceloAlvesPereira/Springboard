{
 "cells": [
  {
   "cell_type": "markdown",
   "metadata": {},
   "source": [
    "# PART 2: SQLite\n",
    "\n",
    "Export the country club data from PHPMyAdmin, and connect to a local SQLite instance from Jupyter notebook \n",
    "for the following questions."
   ]
  },
  {
   "cell_type": "markdown",
   "metadata": {},
   "source": [
    "## Importing the datasets."
   ]
  },
  {
   "cell_type": "code",
   "execution_count": 1,
   "metadata": {},
   "outputs": [],
   "source": [
    "# Default libraries: pandas, numpy\n",
    "import pandas as pd\n",
    "import numpy as np\n",
    "\n",
    "from sqlalchemy import create_engine\n",
    "\n",
    "import sqlite3\n",
    "\n",
    "import math\n",
    "\n",
    "# Load collections of functions\n",
    "from matplotlib import pyplot as plt\n",
    "from collections import Counter\n",
    "from datetime import datetime"
   ]
  },
  {
   "cell_type": "code",
   "execution_count": 2,
   "metadata": {},
   "outputs": [],
   "source": [
    "# A. IMPORT DATA\n",
    "main_path = 'C:\\\\Users\\\\map_f\\\\OneDrive\\\\Documents\\\\Dropbox\\\\Springboard\\\\Project\\\\'\n",
    "project_path = 'Country_Club\\\\'\n",
    "\n",
    "path = main_path + project_path\n",
    "\n",
    "# parser = TextFileReader(fp_or_buf, **kwds)\n",
    "bookings = pd.read_csv(path + 'country_club_bookings.csv',index_col= None,delimiter=',')\n",
    "facilities = pd.read_csv(path + 'country_club_facilities.csv',index_col= None,delimiter=',')\n",
    "members = pd.read_csv(path + 'country_club_members.csv',index_col= None,delimiter=',')\n",
    "\n",
    "# type(raw_data)"
   ]
  },
  {
   "cell_type": "code",
   "execution_count": 3,
   "metadata": {},
   "outputs": [],
   "source": [
    "# Create engine: engine\n",
    "engine = create_engine('sqlite:///country_club.csv')\n",
    "\n",
    "# help(bookings.to_sql)\n",
    "bookings.to_sql('bookings',con=engine,if_exists='append')\n",
    "facilities.to_sql('facilities',con=engine,if_exists='append')\n",
    "members.to_sql('members',con=engine,if_exists='append')"
   ]
  },
  {
   "cell_type": "code",
   "execution_count": 4,
   "metadata": {},
   "outputs": [
    {
     "name": "stdout",
     "output_type": "stream",
     "text": [
      "   index  bookid  facid  memid            starttime  slots\n",
      "0      0       0      3      1  2012-07-03 11:00:00      2\n",
      "1      1       1      4      1  2012-07-03 08:00:00      2\n",
      "2      2       2      6      0  2012-07-03 18:00:00      2\n",
      "3      3       3      7      1  2012-07-03 19:00:00      2\n",
      "4      4       4      8      1  2012-07-03 10:00:00      1\n"
     ]
    }
   ],
   "source": [
    "df = pd.read_sql_query(\"SELECT * FROM bookings\", engine)\n",
    "# df = pd.read_sql_query(\"SELECT * FROM facilities\", engine)\n",
    "# df = pd.read_sql_query(\"SELECT * FROM members\", engine)\n",
    "\n",
    "# Print head of DataFrame\n",
    "print(df.head())"
   ]
  },
  {
   "cell_type": "markdown",
   "metadata": {},
   "source": [
    "### Q10:\n",
    "Produce a list of facilities with a total revenue less than 1000.\n",
    "The output of facility name and total revenue, sorted by revenue. Remember\n",
    "that there's a different cost for guests and members!"
   ]
  },
  {
   "cell_type": "code",
   "execution_count": 9,
   "metadata": {},
   "outputs": [
    {
     "name": "stdout",
     "output_type": "stream",
     "text": [
      "   facility_name  revenue\n",
      "0   Table Tennis    180.0\n",
      "1  Snooker Table    240.0\n",
      "2     Pool Table    270.0\n"
     ]
    }
   ],
   "source": [
    "df = pd.read_sql_query(\"SELECT f.name AS facility_name ,SUM(CASE WHEN b.memid = 0 THEN f.guestcost * b.slots ELSE f.membercost * b.slots END) AS revenue FROM Facilities AS f LEFT JOIN Bookings AS b ON b.facid = f.facid GROUP BY f.name HAVING revenue < 1000 ORDER BY revenue\", engine)\n",
    "print(df)"
   ]
  },
  {
   "cell_type": "markdown",
   "metadata": {},
   "source": [
    "### Q11:\n",
    "Produce a report of members and who recommended them in alphabetic surname,firstname order."
   ]
  },
  {
   "cell_type": "code",
   "execution_count": 15,
   "metadata": {},
   "outputs": [
    {
     "name": "stdout",
     "output_type": "stream",
     "text": [
      "                 member_name  recommendedby      recommended_by\n",
      "0          Sarwin, Ramnaresh           15.0     Bader, Florence\n",
      "1               Coplin, Joan           16.0      Baker, Timothy\n",
      "2           Genting, Matthew            5.0     Butters, Gerald\n",
      "3             Baker, Timothy           13.0     Farrell, Jemima\n",
      "4              Pinker, David           13.0     Farrell, Jemima\n",
      "5          Rumney, Henrietta           20.0    Genting, Matthew\n",
      "6             Jones, Douglas           11.0        Jones, David\n",
      "7                Dare, Nancy            4.0    Joplette, Janice\n",
      "8               Jones, David            4.0    Joplette, Janice\n",
      "9                 Hunt, John           30.0  Purview, Millicent\n",
      "10               Boothe, Tim            3.0         Rownam, Tim\n",
      "11           Butters, Gerald            1.0       Smith, Darren\n",
      "12          Joplette, Janice            1.0       Smith, Darren\n",
      "13           Mackenzie, Anna            1.0       Smith, Darren\n",
      "14             Owen, Charles            1.0       Smith, Darren\n",
      "15               Smith, Jack            1.0       Smith, Darren\n",
      "16            Crumpet, Erica            2.0        Smith, Tracy\n",
      "17        Purview, Millicent            2.0        Smith, Tracy\n",
      "18  Worthington-Smyth, Henry            2.0        Smith, Tracy\n",
      "19           Bader, Florence            9.0    Stibbons, Ponder\n",
      "20               Baker, Anne            9.0    Stibbons, Ponder\n",
      "21          Stibbons, Ponder            6.0       Tracy, Burton\n"
     ]
    }
   ],
   "source": [
    "df = pd.read_sql_query(\"SELECT DISTINCT m.surname || ', ' || m.firstname AS member_name ,m.recommendedby ,r.surname || ', ' || r.firstname AS recommended_by FROM Members AS m LEFT JOIN Members AS r ON r.memid = m.recommendedby WHERE m.recommendedby > 0 ORDER BY recommended_by, member_name\", engine)\n",
    "print(df)"
   ]
  },
  {
   "cell_type": "markdown",
   "metadata": {},
   "source": [
    "### Q12:\n",
    "Find the facilities with their usage by member, but not guests."
   ]
  },
  {
   "cell_type": "code",
   "execution_count": 18,
   "metadata": {},
   "outputs": [
    {
     "name": "stdout",
     "output_type": "stream",
     "text": [
      "            facility       member_name  member_usage\n",
      "0    Badminton Court   Bader, Florence             9\n",
      "1    Badminton Court       Baker, Anne            10\n",
      "2    Badminton Court    Baker, Timothy             7\n",
      "3    Badminton Court       Boothe, Tim            12\n",
      "4    Badminton Court   Butters, Gerald            20\n",
      "..               ...               ...           ...\n",
      "197   Tennis Court 2     Smith, Darren            19\n",
      "198   Tennis Court 2       Smith, Jack             1\n",
      "199   Tennis Court 2      Smith, Tracy             2\n",
      "200   Tennis Court 2  Stibbons, Ponder            31\n",
      "201   Tennis Court 2     Tracy, Burton             3\n",
      "\n",
      "[202 rows x 3 columns]\n"
     ]
    }
   ],
   "source": [
    "df = pd.read_sql_query(\"SELECT DISTINCT f.name AS facility ,m.surname || ', ' || m.firstname AS member_name ,COUNT(bookid) AS member_usage FROM (SELECT * FROM Bookings AS b WHERE memid != 0) AS b LEFT JOIN Facilities AS f ON f.facid = b.facid LEFT JOIN Members AS m ON m.memid = b.memid GROUP by f.name, m.surname, m.firstname ORDER BY facility, member_name\", engine)\n",
    "print(df)"
   ]
  },
  {
   "cell_type": "markdown",
   "metadata": {},
   "source": [
    "### Q13:\n",
    "Find the facilities usage by month, but not guests"
   ]
  },
  {
   "cell_type": "code",
   "execution_count": 22,
   "metadata": {},
   "outputs": [
    {
     "name": "stdout",
     "output_type": "stream",
     "text": [
      "           facility month  count_usage\n",
      "0   Badminton Court    07           51\n",
      "1   Badminton Court    08          132\n",
      "2   Badminton Court    09          161\n",
      "3    Massage Room 1    07           77\n",
      "4    Massage Room 1    08          153\n",
      "5    Massage Room 1    09          191\n",
      "6    Massage Room 2    07            4\n",
      "7    Massage Room 2    08            9\n",
      "8    Massage Room 2    09           14\n",
      "9        Pool Table    07          103\n",
      "10       Pool Table    08          272\n",
      "11       Pool Table    09          408\n",
      "12    Snooker Table    07           68\n",
      "13    Snooker Table    08          154\n",
      "14    Snooker Table    09          199\n",
      "15     Squash Court    07           23\n",
      "16     Squash Court    08           85\n",
      "17     Squash Court    09           87\n",
      "18     Table Tennis    07           48\n",
      "19     Table Tennis    08          143\n",
      "20     Table Tennis    09          194\n",
      "21   Tennis Court 1    07           65\n",
      "22   Tennis Court 1    08          111\n",
      "23   Tennis Court 1    09          132\n",
      "24   Tennis Court 2    07           41\n",
      "25   Tennis Court 2    08          109\n",
      "26   Tennis Court 2    09          126\n"
     ]
    }
   ],
   "source": [
    "df = pd.read_sql_query(\"SELECT DISTINCT f.name AS facility ,strftime('%m', starttime) AS month ,COUNT(bookid) AS count_usage FROM (SELECT * FROM Bookings AS b WHERE memid != 0) AS b LEFT JOIN Facilities AS f ON f.facid = b.facid LEFT JOIN Members AS m ON m.memid = b.memid GROUP by f.name, strftime('%m', starttime) ORDER BY facility, month\", engine)\n",
    "print(df)"
   ]
  }
 ],
 "metadata": {
  "kernelspec": {
   "display_name": "Python 3",
   "language": "python",
   "name": "python3"
  },
  "language_info": {
   "codemirror_mode": {
    "name": "ipython",
    "version": 3
   },
   "file_extension": ".py",
   "mimetype": "text/x-python",
   "name": "python",
   "nbconvert_exporter": "python",
   "pygments_lexer": "ipython3",
   "version": "3.8.5"
  }
 },
 "nbformat": 4,
 "nbformat_minor": 4
}
