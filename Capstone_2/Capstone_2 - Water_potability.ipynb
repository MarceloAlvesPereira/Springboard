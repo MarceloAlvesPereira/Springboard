{
 "cells": [
  {
   "cell_type": "markdown",
   "metadata": {
    "toc": true
   },
   "source": [
    "<h1>Table of Contents<span class=\"tocSkip\"></span></h1>\n",
    "<div class=\"toc\"><ul class=\"toc-item\"><li><span><a href=\"#Data-wrangling\" data-toc-modified-id=\"Data-wrangling-1\"><span class=\"toc-item-num\">1&nbsp;&nbsp;</span>Data wrangling</a></span><ul class=\"toc-item\"><li><span><a href=\"#Introduction\" data-toc-modified-id=\"Introduction-1.1\"><span class=\"toc-item-num\">1.1&nbsp;&nbsp;</span>Introduction</a></span></li><li><span><a href=\"#Imports\" data-toc-modified-id=\"Imports-1.2\"><span class=\"toc-item-num\">1.2&nbsp;&nbsp;</span>Imports</a></span></li><li><span><a href=\"#Objectives\" data-toc-modified-id=\"Objectives-1.3\"><span class=\"toc-item-num\">1.3&nbsp;&nbsp;</span>Objectives</a></span></li><li><span><a href=\"#Load-Data\" data-toc-modified-id=\"Load-Data-1.4\"><span class=\"toc-item-num\">1.4&nbsp;&nbsp;</span>Load Data</a></span></li><li><span><a href=\"#Explore-Data\" data-toc-modified-id=\"Explore-Data-1.5\"><span class=\"toc-item-num\">1.5&nbsp;&nbsp;</span>Explore Data</a></span><ul class=\"toc-item\"><li><span><a href=\"#Missing-Values-By-Column\" data-toc-modified-id=\"Missing-Values-By-Column-1.5.1\"><span class=\"toc-item-num\">1.5.1&nbsp;&nbsp;</span>Missing Values By Column</a></span></li><li><span><a href=\"#Numeric-Data\" data-toc-modified-id=\"Numeric-Data-1.5.2\"><span class=\"toc-item-num\">1.5.2&nbsp;&nbsp;</span>Numeric Data</a></span><ul class=\"toc-item\"><li><span><a href=\"#Histograms\" data-toc-modified-id=\"Histograms-1.5.2.1\"><span class=\"toc-item-num\">1.5.2.1&nbsp;&nbsp;</span>Histograms</a></span></li><li><span><a href=\"#Summary\" data-toc-modified-id=\"Summary-1.5.2.2\"><span class=\"toc-item-num\">1.5.2.2&nbsp;&nbsp;</span>Summary</a></span></li><li><span><a href=\"#Average-and-standard-deviation-grouped-by-potability\" data-toc-modified-id=\"Average-and-standard-deviation-grouped-by-potability-1.5.2.3\"><span class=\"toc-item-num\">1.5.2.3&nbsp;&nbsp;</span>Average and standard deviation grouped by potability</a></span></li><li><span><a href=\"#Boxplots-grouped-by-potability\" data-toc-modified-id=\"Boxplots-grouped-by-potability-1.5.2.4\"><span class=\"toc-item-num\">1.5.2.4&nbsp;&nbsp;</span>Boxplots grouped by potability</a></span></li></ul></li></ul></li></ul></li><li><span><a href=\"#Exploratory-Data-Analysis\" data-toc-modified-id=\"Exploratory-Data-Analysis-2\"><span class=\"toc-item-num\">2&nbsp;&nbsp;</span>Exploratory Data Analysis</a></span><ul class=\"toc-item\"><li><span><a href=\"#Common-Knowledge\" data-toc-modified-id=\"Common-Knowledge-2.1\"><span class=\"toc-item-num\">2.1&nbsp;&nbsp;</span>Common Knowledge</a></span><ul class=\"toc-item\"><li><span><a href=\"#Insights\" data-toc-modified-id=\"Insights-2.1.1\"><span class=\"toc-item-num\">2.1.1&nbsp;&nbsp;</span>Insights</a></span><ul class=\"toc-item\"><li><span><a href=\"#Absence-of-statistical-significance\" data-toc-modified-id=\"Absence-of-statistical-significance-2.1.1.1\"><span class=\"toc-item-num\">2.1.1.1&nbsp;&nbsp;</span>Absence of statistical significance</a></span></li><li><span><a href=\"#Wrong-classification\" data-toc-modified-id=\"Wrong-classification-2.1.1.2\"><span class=\"toc-item-num\">2.1.1.2&nbsp;&nbsp;</span>Wrong classification</a></span></li><li><span><a href=\"#All-data-out-of-the-desired-range\" data-toc-modified-id=\"All-data-out-of-the-desired-range-2.1.1.3\"><span class=\"toc-item-num\">2.1.1.3&nbsp;&nbsp;</span>All data out of the desired range</a></span></li></ul></li></ul></li><li><span><a href=\"#Labeled-data\" data-toc-modified-id=\"Labeled-data-2.2\"><span class=\"toc-item-num\">2.2&nbsp;&nbsp;</span>Labeled data</a></span></li><li><span><a href=\"#Initial-considerations-about-the-data\" data-toc-modified-id=\"Initial-considerations-about-the-data-2.3\"><span class=\"toc-item-num\">2.3&nbsp;&nbsp;</span>Initial considerations about the data</a></span></li><li><span><a href=\"#Principle-components-analysis-(PCA)\" data-toc-modified-id=\"Principle-components-analysis-(PCA)-2.4\"><span class=\"toc-item-num\">2.4&nbsp;&nbsp;</span>Principle components analysis <a href=\"https://scikit-learn.org/stable/modules/generated/sklearn.decomposition.PCA.html#sklearn.decomposition.PCA\" target=\"_blank\">(PCA)</a></a></span><ul class=\"toc-item\"><li><span><a href=\"#Scale-the-data\" data-toc-modified-id=\"Scale-the-data-2.4.1\"><span class=\"toc-item-num\">2.4.1&nbsp;&nbsp;</span>Scale the data</a></span><ul class=\"toc-item\"><li><span><a href=\"#Verifying-the-scaling\" data-toc-modified-id=\"Verifying-the-scaling-2.4.1.1\"><span class=\"toc-item-num\">2.4.1.1&nbsp;&nbsp;</span>Verifying the scaling</a></span></li></ul></li><li><span><a href=\"#Calculate-the-PCA-transformation\" data-toc-modified-id=\"Calculate-the-PCA-transformation-2.4.2\"><span class=\"toc-item-num\">2.4.2&nbsp;&nbsp;</span>Calculate the PCA transformation</a></span></li></ul></li><li><span><a href=\"#Numeric-Data\" data-toc-modified-id=\"Numeric-Data-2.5\"><span class=\"toc-item-num\">2.5&nbsp;&nbsp;</span>Numeric Data</a></span><ul class=\"toc-item\"><li><span><a href=\"#Feature-engineering\" data-toc-modified-id=\"Feature-engineering-2.5.1\"><span class=\"toc-item-num\">2.5.1&nbsp;&nbsp;</span>Feature engineering</a></span><ul class=\"toc-item\"><li><span><a href=\"#Parameter-correlation-heatmap\" data-toc-modified-id=\"Parameter-correlation-heatmap-2.5.1.1\"><span class=\"toc-item-num\">2.5.1.1&nbsp;&nbsp;</span>Parameter correlation heatmap</a></span></li><li><span><a href=\"#Scatterplots-of-numeric-features-against-Potability\" data-toc-modified-id=\"Scatterplots-of-numeric-features-against-Potability-2.5.1.2\"><span class=\"toc-item-num\">2.5.1.2&nbsp;&nbsp;</span>Scatterplots of numeric features against Potability</a></span></li></ul></li></ul></li><li><span><a href=\"#Summary\" data-toc-modified-id=\"Summary-2.6\"><span class=\"toc-item-num\">2.6&nbsp;&nbsp;</span>Summary</a></span></li></ul></li><li><span><a href=\"#Pre-Processing-and-Training-Data\" data-toc-modified-id=\"Pre-Processing-and-Training-Data-3\"><span class=\"toc-item-num\">3&nbsp;&nbsp;</span>Pre-Processing and Training Data</a></span><ul class=\"toc-item\"><li><span><a href=\"#Introduction\" data-toc-modified-id=\"Introduction-3.1\"><span class=\"toc-item-num\">3.1&nbsp;&nbsp;</span>Introduction</a></span></li><li><span><a href=\"#Train/Test-Split\" data-toc-modified-id=\"Train/Test-Split-3.2\"><span class=\"toc-item-num\">3.2&nbsp;&nbsp;</span>Train/Test Split</a></span></li><li><span><a href=\"#Imputing-missing-parameter-(predictor)-values\" data-toc-modified-id=\"Imputing-missing-parameter-(predictor)-values-3.3\"><span class=\"toc-item-num\">3.3&nbsp;&nbsp;</span>Imputing missing parameter (predictor) values</a></span><ul class=\"toc-item\"><li><span><a href=\"#Impute-missing-values-with-mean\" data-toc-modified-id=\"Impute-missing-values-with-mean-3.3.1\"><span class=\"toc-item-num\">3.3.1&nbsp;&nbsp;</span>Impute missing values with mean</a></span></li></ul></li><li><span><a href=\"#Classification-models\" data-toc-modified-id=\"Classification-models-3.4\"><span class=\"toc-item-num\">3.4&nbsp;&nbsp;</span>Classification models</a></span></li></ul></li></ul></div>"
   ]
  },
  {
   "cell_type": "markdown",
   "metadata": {},
   "source": [
    "# Data wrangling"
   ]
  },
  {
   "cell_type": "markdown",
   "metadata": {},
   "source": [
    "## Introduction"
   ]
  },
  {
   "cell_type": "markdown",
   "metadata": {},
   "source": [
    "This step focuses on collecting your data, organizing it, and making sure it's well defined."
   ]
  },
  {
   "cell_type": "markdown",
   "metadata": {},
   "source": [
    "<font size=\"4\"> **Water Quality** </font>\n",
    "\n",
    "https://www.kaggle.com/adityakadiwal/water-potability/activity\n",
    "\n",
    "Context\n",
    "Access to safe drinking-water is essential to health, a basic human right and a component of effective policy for health protection. This is important as a health and development issue at a national, regional and local level. In some regions, it has been shown that investments in water supply and sanitation can yield a net economic benefit, since the reductions in adverse health effects and health care costs outweigh the costs of undertaking the interventions.\n",
    "\n",
    "Content\n",
    "The water_potability.csv file contains water quality metrics for 3276 different water bodies.\n",
    "\n",
    "**1. pH value:**\n",
    "PH is an important parameter in evaluating the acid–base balance of water. It is also the indicator of acidic or alkaline condition of water status. WHO has recommended maximum permissible limit of pH from 6.5 to 8.5. The current investigation ranges were 6.52–6.83 which are in the range of WHO standards.\n",
    "\n",
    "** Hardness:**\n",
    "Hardness is mainly caused by calcium and magnesium salts. These salts are dissolved from geologic deposits through which water travels. The length of time water is in contact with hardness producing material helps determine how much hardness there is in raw water. Hardness was originally defined as the capacity of water to precipitate soap caused by Calcium and Magnesium.\n",
    "\n",
    "**3. Solids (Total dissolved solids - TDS):**\n",
    "Water has the ability to dissolve a wide range of inorganic and some organic minerals or salts such as potassium, calcium, sodium, bicarbonates, chlorides, magnesium, sulfates etc. These minerals produced un-wanted taste and diluted color in appearance of water. This is the important parameter for the use of water. The water with high TDS value indicates that water is highly mineralized. Desirable limit for TDS is 500 mg/l and maximum limit is 1000 mg/l which prescribed for drinking purpose.\n",
    "\n",
    "**4. Chloramines:**\n",
    "Chlorine and chloramine are the major disinfectants used in public water systems. Chloramines are most commonly formed when ammonia is added to chlorine to treat drinking water. Chlorine levels up to 4 milligrams per liter (mg/L or 4 parts per million (ppm)) are considered safe in drinking water.\n",
    "\n",
    "**5. Sulfate:**\n",
    "Sulfates are naturally occurring substances that are found in minerals, soil, and rocks. They are present in ambient air, groundwater, plants, and food. The principal commercial use of sulfate is in the chemical industry. Sulfate concentration in seawater is about 2,700 milligrams per liter (mg/L). It ranges from 3 to 30 mg/L in most freshwater supplies, although much higher concentrations (1000 mg/L) are found in some geographic locations.\n",
    "\n",
    "**6. Conductivity:**\n",
    "Pure water is not a good conductor of electric current rather’s a good insulator. Increase in ions concentration enhances the electrical conductivity of water. Generally, the amount of dissolved solids in water determines the electrical conductivity. Electrical conductivity (EC) actually measures the ionic process of a solution that enables it to transmit current. According to WHO standards, EC value should not exceeded 400 μS/cm.\n",
    "\n",
    "**7. Organic_carbon:**\n",
    "Total Organic Carbon (TOC) in source waters comes from decaying natural organic matter (NOM) as well as synthetic sources. TOC is a measure of the total amount of carbon in organic compounds in pure water. According to US EPA < 2 mg/L as TOC in treated / drinking water, and < 4 mg/Lit in source water which is use for treatment.\n",
    "\n",
    "**8. Trihalomethanes:**\n",
    "THMs are chemicals which may be found in water treated with chlorine. The concentration of THMs in drinking water varies according to the level of organic material in the water, the amount of chlorine required to treat the water, and the temperature of the water that is being treated. THM levels up to 80 ppm is considered safe in drinking water.\n",
    "\n",
    "**9. Turbidity:**\n",
    "The turbidity of water depends on the quantity of solid matter present in the suspended state. It is a measure of light emitting properties of water and the test is used to indicate the quality of waste discharge with respect to colloidal matter. The mean turbidity value obtained for Wondo Genet Campus (0.98 NTU) is lower than the WHO recommended value of 5.00 NTU.\n",
    "\n",
    "**10. Potability:**\n",
    "Indicates if water is safe for human consumption where 1 means Potable and 0 means Not potable."
   ]
  },
  {
   "cell_type": "markdown",
   "metadata": {},
   "source": [
    "## Imports"
   ]
  },
  {
   "cell_type": "code",
   "execution_count": 1,
   "metadata": {
    "ExecuteTime": {
     "end_time": "2021-07-10T17:54:10.666257Z",
     "start_time": "2021-07-10T17:54:08.593923Z"
    }
   },
   "outputs": [],
   "source": [
    "# Default libraries: pandas, numpy\n",
    "# import beakerx\n",
    "import cProfile\n",
    "import datetime\n",
    "import math\n",
    "import os\n",
    "import pickle\n",
    "import sys\n",
    "import time\n",
    "\n",
    "\n",
    "import matplotlib.pyplot as plt\n",
    "import numpy as np\n",
    "import pandas as pd\n",
    "import seaborn as sns\n",
    "# import urbangrammar_graphics as ugg\n",
    "\n",
    "from IPython.display import Markdown as md\n",
    "from collections import Counter\n",
    "from clustergram import Clustergram\n",
    "from datetime import datetime\n",
    "\n",
    "from sklearn import __version__ as sklearn_version\n",
    "from sklearn.decomposition import PCA\n",
    "from sklearn.dummy import DummyRegressor\n",
    "from sklearn.ensemble import RandomForestClassifier, RandomForestRegressor, AdaBoostClassifier, BaggingClassifier\n",
    "from sklearn.feature_selection import SelectKBest, f_regression\n",
    "from sklearn.impute import SimpleImputer\n",
    "from sklearn.linear_model import LinearRegression, LogisticRegression\n",
    "from sklearn.metrics import mean_squared_error, mean_absolute_error, accuracy_score, classification_report\n",
    "from sklearn.model_selection import train_test_split, cross_validate, learning_curve, GridSearchCV, RandomizedSearchCV, GridSearchCV\n",
    "from sklearn.neighbors import KNeighborsClassifier\n",
    "from sklearn.pipeline import make_pipeline\n",
    "from sklearn.preprocessing import scale, StandardScaler, MinMaxScaler\n",
    "from sklearn.tree import DecisionTreeClassifier\n",
    "\n",
    "from xgboost import XGBClassifier\n",
    "\n",
    "# from lib.multiply import multiplier\n",
    "# from library.sb_utils import save_file\n",
    "\n",
    "pd.options.display.float_format = \"{:.2f}\".format"
   ]
  },
  {
   "cell_type": "markdown",
   "metadata": {},
   "source": [
    "## Objectives"
   ]
  },
  {
   "cell_type": "markdown",
   "metadata": {},
   "source": [
    "- Check data integrity for a classification task:\n",
    "    - Define the target variable.\n",
    "    - Evaluate if the parameters are useful as discriminators for the classification.\n",
    "    - Is there any issue with the data?"
   ]
  },
  {
   "cell_type": "markdown",
   "metadata": {},
   "source": [
    "## Load Data"
   ]
  },
  {
   "cell_type": "code",
   "execution_count": 2,
   "metadata": {
    "ExecuteTime": {
     "end_time": "2021-07-10T17:54:10.728429Z",
     "start_time": "2021-07-10T17:54:10.666257Z"
    }
   },
   "outputs": [
    {
     "name": "stdout",
     "output_type": "stream",
     "text": [
      "<class 'pandas.core.frame.DataFrame'>\n",
      "RangeIndex: 3276 entries, 0 to 3275\n",
      "Data columns (total 10 columns):\n",
      " #   Column           Non-Null Count  Dtype  \n",
      "---  ------           --------------  -----  \n",
      " 0   ph               2785 non-null   float64\n",
      " 1   Hardness         3276 non-null   float64\n",
      " 2   Solids           3276 non-null   float64\n",
      " 3   Chloramines      3276 non-null   float64\n",
      " 4   Sulfate          2495 non-null   float64\n",
      " 5   Conductivity     3276 non-null   float64\n",
      " 6   Organic_carbon   3276 non-null   float64\n",
      " 7   Trihalomethanes  3114 non-null   float64\n",
      " 8   Turbidity        3276 non-null   float64\n",
      " 9   Potability       3276 non-null   int64  \n",
      "dtypes: float64(9), int64(1)\n",
      "memory usage: 256.1 KB\n"
     ]
    },
    {
     "data": {
      "text/html": [
       "<div>\n",
       "<style scoped>\n",
       "    .dataframe tbody tr th:only-of-type {\n",
       "        vertical-align: middle;\n",
       "    }\n",
       "\n",
       "    .dataframe tbody tr th {\n",
       "        vertical-align: top;\n",
       "    }\n",
       "\n",
       "    .dataframe thead th {\n",
       "        text-align: right;\n",
       "    }\n",
       "</style>\n",
       "<table border=\"1\" class=\"dataframe\">\n",
       "  <thead>\n",
       "    <tr style=\"text-align: right;\">\n",
       "      <th></th>\n",
       "      <th>ph</th>\n",
       "      <th>Hardness</th>\n",
       "      <th>Solids</th>\n",
       "      <th>Chloramines</th>\n",
       "      <th>Sulfate</th>\n",
       "      <th>Conductivity</th>\n",
       "      <th>Organic_carbon</th>\n",
       "      <th>Trihalomethanes</th>\n",
       "      <th>Turbidity</th>\n",
       "      <th>Potability</th>\n",
       "    </tr>\n",
       "  </thead>\n",
       "  <tbody>\n",
       "    <tr>\n",
       "      <th>0</th>\n",
       "      <td>NaN</td>\n",
       "      <td>204.89</td>\n",
       "      <td>20791.32</td>\n",
       "      <td>7.30</td>\n",
       "      <td>368.52</td>\n",
       "      <td>564.31</td>\n",
       "      <td>10.38</td>\n",
       "      <td>86.99</td>\n",
       "      <td>2.96</td>\n",
       "      <td>0</td>\n",
       "    </tr>\n",
       "    <tr>\n",
       "      <th>1</th>\n",
       "      <td>3.72</td>\n",
       "      <td>129.42</td>\n",
       "      <td>18630.06</td>\n",
       "      <td>6.64</td>\n",
       "      <td>NaN</td>\n",
       "      <td>592.89</td>\n",
       "      <td>15.18</td>\n",
       "      <td>56.33</td>\n",
       "      <td>4.50</td>\n",
       "      <td>0</td>\n",
       "    </tr>\n",
       "    <tr>\n",
       "      <th>2</th>\n",
       "      <td>8.10</td>\n",
       "      <td>224.24</td>\n",
       "      <td>19909.54</td>\n",
       "      <td>9.28</td>\n",
       "      <td>NaN</td>\n",
       "      <td>418.61</td>\n",
       "      <td>16.87</td>\n",
       "      <td>66.42</td>\n",
       "      <td>3.06</td>\n",
       "      <td>0</td>\n",
       "    </tr>\n",
       "    <tr>\n",
       "      <th>3</th>\n",
       "      <td>8.32</td>\n",
       "      <td>214.37</td>\n",
       "      <td>22018.42</td>\n",
       "      <td>8.06</td>\n",
       "      <td>356.89</td>\n",
       "      <td>363.27</td>\n",
       "      <td>18.44</td>\n",
       "      <td>100.34</td>\n",
       "      <td>4.63</td>\n",
       "      <td>0</td>\n",
       "    </tr>\n",
       "    <tr>\n",
       "      <th>4</th>\n",
       "      <td>9.09</td>\n",
       "      <td>181.10</td>\n",
       "      <td>17978.99</td>\n",
       "      <td>6.55</td>\n",
       "      <td>310.14</td>\n",
       "      <td>398.41</td>\n",
       "      <td>11.56</td>\n",
       "      <td>32.00</td>\n",
       "      <td>4.08</td>\n",
       "      <td>0</td>\n",
       "    </tr>\n",
       "  </tbody>\n",
       "</table>\n",
       "</div>"
      ],
      "text/plain": [
       "    ph  Hardness   Solids  Chloramines  Sulfate  Conductivity  Organic_carbon  \\\n",
       "0  NaN    204.89 20791.32         7.30   368.52        564.31           10.38   \n",
       "1 3.72    129.42 18630.06         6.64      NaN        592.89           15.18   \n",
       "2 8.10    224.24 19909.54         9.28      NaN        418.61           16.87   \n",
       "3 8.32    214.37 22018.42         8.06   356.89        363.27           18.44   \n",
       "4 9.09    181.10 17978.99         6.55   310.14        398.41           11.56   \n",
       "\n",
       "   Trihalomethanes  Turbidity  Potability  \n",
       "0            86.99       2.96           0  \n",
       "1            56.33       4.50           0  \n",
       "2            66.42       3.06           0  \n",
       "3           100.34       4.63           0  \n",
       "4            32.00       4.08           0  "
      ]
     },
     "execution_count": 2,
     "metadata": {},
     "output_type": "execute_result"
    }
   ],
   "source": [
    "path = os.getcwd() + '\\\\Water_potability\\\\'\n",
    "\n",
    "water = pd.read_csv(path + 'water_potability.csv',index_col= None,delimiter=',')\n",
    "type(water)\n",
    "water.info()\n",
    "water.head()"
   ]
  },
  {
   "cell_type": "markdown",
   "metadata": {},
   "source": [
    "- 3276 entries\n",
    "- Target: `Potability` indicates if the water is safe for human consumption:\n",
    "    - 1 potable water\n",
    "    - 0 non-potable water\n",
    "- Remaining columns are the parameters to be used to classify the row as potable or not.\n",
    "- Numerical features:\n",
    "    - float64(9) - parameters\n",
    "    - int64(1) - target\n",
    "- Categorical:\n",
    "    - none\n",
    "- Headers: names are meaningful and related to the problem.\n",
    "- Missing values: present - further investigation required."
   ]
  },
  {
   "cell_type": "markdown",
   "metadata": {},
   "source": [
    "## Explore Data"
   ]
  },
  {
   "cell_type": "markdown",
   "metadata": {},
   "source": [
    "### Missing Values By Column"
   ]
  },
  {
   "cell_type": "markdown",
   "metadata": {},
   "source": [
    "Count the number of missing values in each column and sort them."
   ]
  },
  {
   "cell_type": "code",
   "execution_count": 3,
   "metadata": {
    "ExecuteTime": {
     "end_time": "2021-07-10T17:54:10.760312Z",
     "start_time": "2021-07-10T17:54:10.730392Z"
    }
   },
   "outputs": [
    {
     "data": {
      "text/html": [
       "<div>\n",
       "<style scoped>\n",
       "    .dataframe tbody tr th:only-of-type {\n",
       "        vertical-align: middle;\n",
       "    }\n",
       "\n",
       "    .dataframe tbody tr th {\n",
       "        vertical-align: top;\n",
       "    }\n",
       "\n",
       "    .dataframe thead th {\n",
       "        text-align: right;\n",
       "    }\n",
       "</style>\n",
       "<table border=\"1\" class=\"dataframe\">\n",
       "  <thead>\n",
       "    <tr style=\"text-align: right;\">\n",
       "      <th></th>\n",
       "      <th>count</th>\n",
       "      <th>%</th>\n",
       "    </tr>\n",
       "  </thead>\n",
       "  <tbody>\n",
       "    <tr>\n",
       "      <th>Sulfate</th>\n",
       "      <td>781</td>\n",
       "      <td>23.84</td>\n",
       "    </tr>\n",
       "    <tr>\n",
       "      <th>ph</th>\n",
       "      <td>491</td>\n",
       "      <td>14.99</td>\n",
       "    </tr>\n",
       "    <tr>\n",
       "      <th>Trihalomethanes</th>\n",
       "      <td>162</td>\n",
       "      <td>4.95</td>\n",
       "    </tr>\n",
       "  </tbody>\n",
       "</table>\n",
       "</div>"
      ],
      "text/plain": [
       "                 count     %\n",
       "Sulfate            781 23.84\n",
       "ph                 491 14.99\n",
       "Trihalomethanes    162  4.95"
      ]
     },
     "execution_count": 3,
     "metadata": {},
     "output_type": "execute_result"
    }
   ],
   "source": [
    "#Count (using `.sum()`) the number of missing values (`.isnull()`) in each column of data\n",
    "#as well as the percentages (using `.mean()` instead of `.sum()`).\n",
    "#Order them (increasing or decreasing) using sort_values\n",
    "missing = pd.concat([water.isnull().sum(), 100 * water.isnull().mean()], axis=1)\n",
    "missing.columns=['count','%']\n",
    "missing = missing[missing['count'] > 0]\n",
    "missing.sort_values(by='%',ascending=False)"
   ]
  },
  {
   "cell_type": "markdown",
   "metadata": {},
   "source": [
    "- Columns with missing data: 3\n",
    "- Most missing: `Sufalte` - 23.8%\n",
    "- Target missing: none\n",
    "- Notes:\n",
    "    - Check for non genunine values (outside the ocurrence range, e.g. -1 and 999)\n",
    "    - Check for unreasonable values\n",
    "    - Check outliers"
   ]
  },
  {
   "cell_type": "markdown",
   "metadata": {},
   "source": [
    "### Numeric Data"
   ]
  },
  {
   "cell_type": "markdown",
   "metadata": {},
   "source": [
    "#### Histograms"
   ]
  },
  {
   "cell_type": "code",
   "execution_count": 4,
   "metadata": {
    "ExecuteTime": {
     "end_time": "2021-07-10T17:54:12.192523Z",
     "start_time": "2021-07-10T17:54:10.762307Z"
    }
   },
   "outputs": [
    {
     "data": {
      "image/png": "[encoded data removed]",
      "text/plain": [
       "<Figure size 1080x720 with 12 Axes>"
      ]
     },
     "metadata": {
      "needs_background": "light"
     },
     "output_type": "display_data"
    }
   ],
   "source": [
    "# Histograms of all numeric features\n",
    "water.hist(figsize=(15,10))\n",
    "plt.subplots_adjust(hspace=0.5); #Hint: notice how the terminating ';' \"swallows\" some messy output and leads to a tidier notebook"
   ]
  },
  {
   "cell_type": "markdown",
   "metadata": {},
   "source": [
    "- As suggest by the statistical analysis all parameters have a distribution close to the normal distribution\n",
    "- Outliers: there are no obvious outliers in the distributions\n",
    "- Constant values: none\n",
    "- Extreme distributions: none"
   ]
  },
  {
   "cell_type": "markdown",
   "metadata": {},
   "source": [
    "#### Summary"
   ]
  },
  {
   "cell_type": "code",
   "execution_count": 5,
   "metadata": {
    "ExecuteTime": {
     "end_time": "2021-07-10T17:54:12.240492Z",
     "start_time": "2021-07-10T17:54:12.194489Z"
    }
   },
   "outputs": [
    {
     "data": {
      "text/html": [
       "<div>\n",
       "<style scoped>\n",
       "    .dataframe tbody tr th:only-of-type {\n",
       "        vertical-align: middle;\n",
       "    }\n",
       "\n",
       "    .dataframe tbody tr th {\n",
       "        vertical-align: top;\n",
       "    }\n",
       "\n",
       "    .dataframe thead th {\n",
       "        text-align: right;\n",
       "    }\n",
       "</style>\n",
       "<table border=\"1\" class=\"dataframe\">\n",
       "  <thead>\n",
       "    <tr style=\"text-align: right;\">\n",
       "      <th></th>\n",
       "      <th>count</th>\n",
       "      <th>mean</th>\n",
       "      <th>std</th>\n",
       "      <th>min</th>\n",
       "      <th>25%</th>\n",
       "      <th>50%</th>\n",
       "      <th>75%</th>\n",
       "      <th>max</th>\n",
       "    </tr>\n",
       "  </thead>\n",
       "  <tbody>\n",
       "    <tr>\n",
       "      <th>ph</th>\n",
       "      <td>2785.00</td>\n",
       "      <td>7.08</td>\n",
       "      <td>1.59</td>\n",
       "      <td>0.00</td>\n",
       "      <td>6.09</td>\n",
       "      <td>7.04</td>\n",
       "      <td>8.06</td>\n",
       "      <td>14.00</td>\n",
       "    </tr>\n",
       "    <tr>\n",
       "      <th>Hardness</th>\n",
       "      <td>3276.00</td>\n",
       "      <td>196.37</td>\n",
       "      <td>32.88</td>\n",
       "      <td>47.43</td>\n",
       "      <td>176.85</td>\n",
       "      <td>196.97</td>\n",
       "      <td>216.67</td>\n",
       "      <td>323.12</td>\n",
       "    </tr>\n",
       "    <tr>\n",
       "      <th>Solids</th>\n",
       "      <td>3276.00</td>\n",
       "      <td>22014.09</td>\n",
       "      <td>8768.57</td>\n",
       "      <td>320.94</td>\n",
       "      <td>15666.69</td>\n",
       "      <td>20927.83</td>\n",
       "      <td>27332.76</td>\n",
       "      <td>61227.20</td>\n",
       "    </tr>\n",
       "    <tr>\n",
       "      <th>Chloramines</th>\n",
       "      <td>3276.00</td>\n",
       "      <td>7.12</td>\n",
       "      <td>1.58</td>\n",
       "      <td>0.35</td>\n",
       "      <td>6.13</td>\n",
       "      <td>7.13</td>\n",
       "      <td>8.11</td>\n",
       "      <td>13.13</td>\n",
       "    </tr>\n",
       "    <tr>\n",
       "      <th>Sulfate</th>\n",
       "      <td>2495.00</td>\n",
       "      <td>333.78</td>\n",
       "      <td>41.42</td>\n",
       "      <td>129.00</td>\n",
       "      <td>307.70</td>\n",
       "      <td>333.07</td>\n",
       "      <td>359.95</td>\n",
       "      <td>481.03</td>\n",
       "    </tr>\n",
       "    <tr>\n",
       "      <th>Conductivity</th>\n",
       "      <td>3276.00</td>\n",
       "      <td>426.21</td>\n",
       "      <td>80.82</td>\n",
       "      <td>181.48</td>\n",
       "      <td>365.73</td>\n",
       "      <td>421.88</td>\n",
       "      <td>481.79</td>\n",
       "      <td>753.34</td>\n",
       "    </tr>\n",
       "    <tr>\n",
       "      <th>Organic_carbon</th>\n",
       "      <td>3276.00</td>\n",
       "      <td>14.28</td>\n",
       "      <td>3.31</td>\n",
       "      <td>2.20</td>\n",
       "      <td>12.07</td>\n",
       "      <td>14.22</td>\n",
       "      <td>16.56</td>\n",
       "      <td>28.30</td>\n",
       "    </tr>\n",
       "    <tr>\n",
       "      <th>Trihalomethanes</th>\n",
       "      <td>3114.00</td>\n",
       "      <td>66.40</td>\n",
       "      <td>16.18</td>\n",
       "      <td>0.74</td>\n",
       "      <td>55.84</td>\n",
       "      <td>66.62</td>\n",
       "      <td>77.34</td>\n",
       "      <td>124.00</td>\n",
       "    </tr>\n",
       "    <tr>\n",
       "      <th>Turbidity</th>\n",
       "      <td>3276.00</td>\n",
       "      <td>3.97</td>\n",
       "      <td>0.78</td>\n",
       "      <td>1.45</td>\n",
       "      <td>3.44</td>\n",
       "      <td>3.96</td>\n",
       "      <td>4.50</td>\n",
       "      <td>6.74</td>\n",
       "    </tr>\n",
       "    <tr>\n",
       "      <th>Potability</th>\n",
       "      <td>3276.00</td>\n",
       "      <td>0.39</td>\n",
       "      <td>0.49</td>\n",
       "      <td>0.00</td>\n",
       "      <td>0.00</td>\n",
       "      <td>0.00</td>\n",
       "      <td>1.00</td>\n",
       "      <td>1.00</td>\n",
       "    </tr>\n",
       "  </tbody>\n",
       "</table>\n",
       "</div>"
      ],
      "text/plain": [
       "                  count     mean     std    min      25%      50%      75%  \\\n",
       "ph              2785.00     7.08    1.59   0.00     6.09     7.04     8.06   \n",
       "Hardness        3276.00   196.37   32.88  47.43   176.85   196.97   216.67   \n",
       "Solids          3276.00 22014.09 8768.57 320.94 15666.69 20927.83 27332.76   \n",
       "Chloramines     3276.00     7.12    1.58   0.35     6.13     7.13     8.11   \n",
       "Sulfate         2495.00   333.78   41.42 129.00   307.70   333.07   359.95   \n",
       "Conductivity    3276.00   426.21   80.82 181.48   365.73   421.88   481.79   \n",
       "Organic_carbon  3276.00    14.28    3.31   2.20    12.07    14.22    16.56   \n",
       "Trihalomethanes 3114.00    66.40   16.18   0.74    55.84    66.62    77.34   \n",
       "Turbidity       3276.00     3.97    0.78   1.45     3.44     3.96     4.50   \n",
       "Potability      3276.00     0.39    0.49   0.00     0.00     0.00     1.00   \n",
       "\n",
       "                     max  \n",
       "ph                 14.00  \n",
       "Hardness          323.12  \n",
       "Solids          61227.20  \n",
       "Chloramines        13.13  \n",
       "Sulfate           481.03  \n",
       "Conductivity      753.34  \n",
       "Organic_carbon     28.30  \n",
       "Trihalomethanes   124.00  \n",
       "Turbidity           6.74  \n",
       "Potability          1.00  "
      ]
     },
     "execution_count": 5,
     "metadata": {},
     "output_type": "execute_result"
    }
   ],
   "source": [
    "# Statistical summary of the numerical columns\n",
    "water.describe().transpose()"
   ]
  },
  {
   "cell_type": "markdown",
   "metadata": {},
   "source": [
    "- All parameters have a median close to the mean and the 25% and 75% are simmetrical to the median, suggesting normal distributions.\n",
    "- No negative values (expected)"
   ]
  },
  {
   "cell_type": "markdown",
   "metadata": {},
   "source": [
    "#### Average and standard deviation grouped by potability"
   ]
  },
  {
   "cell_type": "markdown",
   "metadata": {},
   "source": [
    "Average values of each parameter grouped by the potability."
   ]
  },
  {
   "cell_type": "code",
   "execution_count": 6,
   "metadata": {
    "ExecuteTime": {
     "end_time": "2021-07-10T17:54:12.271409Z",
     "start_time": "2021-07-10T17:54:12.242486Z"
    }
   },
   "outputs": [
    {
     "data": {
      "text/html": [
       "<div>\n",
       "<style scoped>\n",
       "    .dataframe tbody tr th:only-of-type {\n",
       "        vertical-align: middle;\n",
       "    }\n",
       "\n",
       "    .dataframe tbody tr th {\n",
       "        vertical-align: top;\n",
       "    }\n",
       "\n",
       "    .dataframe thead th {\n",
       "        text-align: right;\n",
       "    }\n",
       "</style>\n",
       "<table border=\"1\" class=\"dataframe\">\n",
       "  <thead>\n",
       "    <tr style=\"text-align: right;\">\n",
       "      <th></th>\n",
       "      <th>Potability</th>\n",
       "      <th>ph</th>\n",
       "      <th>Hardness</th>\n",
       "      <th>Solids</th>\n",
       "      <th>Chloramines</th>\n",
       "      <th>Sulfate</th>\n",
       "      <th>Conductivity</th>\n",
       "      <th>Organic_carbon</th>\n",
       "      <th>Trihalomethanes</th>\n",
       "      <th>Turbidity</th>\n",
       "    </tr>\n",
       "  </thead>\n",
       "  <tbody>\n",
       "    <tr>\n",
       "      <th>0</th>\n",
       "      <td>0</td>\n",
       "      <td>7.09</td>\n",
       "      <td>196.73</td>\n",
       "      <td>21777.49</td>\n",
       "      <td>7.09</td>\n",
       "      <td>334.56</td>\n",
       "      <td>426.73</td>\n",
       "      <td>14.36</td>\n",
       "      <td>66.30</td>\n",
       "      <td>3.97</td>\n",
       "    </tr>\n",
       "    <tr>\n",
       "      <th>1</th>\n",
       "      <td>1</td>\n",
       "      <td>7.07</td>\n",
       "      <td>195.80</td>\n",
       "      <td>22383.99</td>\n",
       "      <td>7.17</td>\n",
       "      <td>332.57</td>\n",
       "      <td>425.38</td>\n",
       "      <td>14.16</td>\n",
       "      <td>66.54</td>\n",
       "      <td>3.97</td>\n",
       "    </tr>\n",
       "  </tbody>\n",
       "</table>\n",
       "</div>"
      ],
      "text/plain": [
       "   Potability   ph  Hardness   Solids  Chloramines  Sulfate  Conductivity  \\\n",
       "0           0 7.09    196.73 21777.49         7.09   334.56        426.73   \n",
       "1           1 7.07    195.80 22383.99         7.17   332.57        425.38   \n",
       "\n",
       "   Organic_carbon  Trihalomethanes  Turbidity  \n",
       "0           14.36            66.30       3.97  \n",
       "1           14.16            66.54       3.97  "
      ]
     },
     "execution_count": 6,
     "metadata": {},
     "output_type": "execute_result"
    }
   ],
   "source": [
    "water.groupby('Potability').mean().reset_index()"
   ]
  },
  {
   "cell_type": "code",
   "execution_count": 7,
   "metadata": {
    "ExecuteTime": {
     "end_time": "2021-07-10T17:54:12.302326Z",
     "start_time": "2021-07-10T17:54:12.274401Z"
    }
   },
   "outputs": [
    {
     "data": {
      "text/html": [
       "<div>\n",
       "<style scoped>\n",
       "    .dataframe tbody tr th:only-of-type {\n",
       "        vertical-align: middle;\n",
       "    }\n",
       "\n",
       "    .dataframe tbody tr th {\n",
       "        vertical-align: top;\n",
       "    }\n",
       "\n",
       "    .dataframe thead th {\n",
       "        text-align: right;\n",
       "    }\n",
       "</style>\n",
       "<table border=\"1\" class=\"dataframe\">\n",
       "  <thead>\n",
       "    <tr style=\"text-align: right;\">\n",
       "      <th></th>\n",
       "      <th>Potability</th>\n",
       "      <th>ph</th>\n",
       "      <th>Hardness</th>\n",
       "      <th>Solids</th>\n",
       "      <th>Chloramines</th>\n",
       "      <th>Sulfate</th>\n",
       "      <th>Conductivity</th>\n",
       "      <th>Organic_carbon</th>\n",
       "      <th>Trihalomethanes</th>\n",
       "      <th>Turbidity</th>\n",
       "    </tr>\n",
       "  </thead>\n",
       "  <tbody>\n",
       "    <tr>\n",
       "      <th>0</th>\n",
       "      <td>0</td>\n",
       "      <td>1.68</td>\n",
       "      <td>31.06</td>\n",
       "      <td>8543.07</td>\n",
       "      <td>1.50</td>\n",
       "      <td>36.75</td>\n",
       "      <td>80.05</td>\n",
       "      <td>3.33</td>\n",
       "      <td>16.08</td>\n",
       "      <td>0.78</td>\n",
       "    </tr>\n",
       "    <tr>\n",
       "      <th>1</th>\n",
       "      <td>1</td>\n",
       "      <td>1.45</td>\n",
       "      <td>35.55</td>\n",
       "      <td>9101.01</td>\n",
       "      <td>1.70</td>\n",
       "      <td>47.69</td>\n",
       "      <td>82.05</td>\n",
       "      <td>3.26</td>\n",
       "      <td>16.33</td>\n",
       "      <td>0.78</td>\n",
       "    </tr>\n",
       "  </tbody>\n",
       "</table>\n",
       "</div>"
      ],
      "text/plain": [
       "   Potability   ph  Hardness  Solids  Chloramines  Sulfate  Conductivity  \\\n",
       "0           0 1.68     31.06 8543.07         1.50    36.75         80.05   \n",
       "1           1 1.45     35.55 9101.01         1.70    47.69         82.05   \n",
       "\n",
       "   Organic_carbon  Trihalomethanes  Turbidity  \n",
       "0            3.33            16.08       0.78  \n",
       "1            3.26            16.33       0.78  "
      ]
     },
     "execution_count": 7,
     "metadata": {},
     "output_type": "execute_result"
    }
   ],
   "source": [
    "water.groupby('Potability').std().reset_index()"
   ]
  },
  {
   "cell_type": "markdown",
   "metadata": {},
   "source": [
    "- Both average and standard deviation for potable and non potable water values are very close for all parameters, indicating that these parameters may not be good discriminators"
   ]
  },
  {
   "cell_type": "markdown",
   "metadata": {},
   "source": [
    "#### Boxplots grouped by potability"
   ]
  },
  {
   "cell_type": "code",
   "execution_count": 8,
   "metadata": {
    "ExecuteTime": {
     "end_time": "2021-07-10T17:54:12.318315Z",
     "start_time": "2021-07-10T17:54:12.304325Z"
    }
   },
   "outputs": [],
   "source": [
    "# water.boxplot(figsize=(15,10))\n",
    "# plt.subplots_adjust(hspace=0.5); #Hint: notice how the terminating ';' \"swallows\" some messy output and leads to a tidier notebook\n",
    "\n",
    "# fig, ax= plt.subplots(nrows=3,ncols=3,figsize=(15,15), constrained_layout=True)\n",
    "# plt.suptitle('Feature distribution by Potability class', size=20, weight='bold')\n",
    "# ax=ax.flatten()\n",
    "# for x, i in enumerate(water):\n",
    "#     sns.boxplot(data=water, y=i, x='Potability', ax=ax[x])\n",
    "#     #l,k = limit.iloc[:,x]\n",
    "#     #ax[x].add_patch(Rectangle(xy=(l,0), width=k-l, height=1, alpha=0.5))\n",
    "#     for s in ['left','right','top','bottom']:\n",
    "#         ax[x].spines[s].set_visible(False)"
   ]
  },
  {
   "cell_type": "markdown",
   "metadata": {},
   "source": [
    "# Exploratory Data Analysis"
   ]
  },
  {
   "cell_type": "markdown",
   "metadata": {},
   "source": [
    "## Common Knowledge"
   ]
  },
  {
   "cell_type": "markdown",
   "metadata": {},
   "source": [
    "Data validation based on the information about water potability provided in the problem presentation and on common knowledge.\n",
    "\n",
    "The following histograms showcase:\n",
    "- distribution of the parameter for the potable (dark) and non-potable (green) water.\n",
    "- hatched area shows what is considered potable for that parameter."
   ]
  },
  {
   "cell_type": "code",
   "execution_count": 9,
   "metadata": {
    "ExecuteTime": {
     "end_time": "2021-07-10T17:54:12.333245Z",
     "start_time": "2021-07-10T17:54:12.320278Z"
    }
   },
   "outputs": [],
   "source": [
    "dict_range = {'ph': [6.5, 8.5],\n",
    "              'Hardness': [120, 170],\n",
    "              'Solids': [500, 1000],\n",
    "              'Chloramines': [0, 4],\n",
    "              'Sulfate': [3, 30],\n",
    "              'Conductivity': [0, 400],\n",
    "              'Organic_carbon': [0, 4],\n",
    "              'Trihalomethanes': [0, 80],\n",
    "              'Turbidity': [0, 5]}\n",
    "\n",
    "dict_labels = {'ph': [[-np.inf, 0, 6.5, 8.5, 14, np.inf], ['out_range_low', 'acid', 'potable','basic','out_range_high']],\n",
    "              'Hardness': [[-np.inf, 0, 120, 170, np.inf],['out_range_low', 'below', 'potable','above']],\n",
    "              'Solids': [[-np.inf, 0, 500, 1000, np.inf],['out_range_low', 'low', 'potable','high']],\n",
    "              'Chloramines': [[-np.inf, 0, 4, np.inf],['out_range_low', 'potable','high']],\n",
    "              'Sulfate': [[-np.inf, 0, 3, 30, np.inf],['out_range_low', 'low', 'potable','high']],\n",
    "              'Conductivity': [[-np.inf, 0, 400, np.inf],['out_range_low', 'potable','high']],\n",
    "              'Organic_carbon': [[-np.inf, 0, 2, 4, np.inf],['out_range_low', 'potable','to be treated','high']],\n",
    "              'Trihalomethanes': [[-np.inf, 0, 80, np.inf],['out_range_low', 'potable','high']],\n",
    "              'Turbidity': [[-np.inf, 0, 5, np.inf],['out_range_low', 'potable','high']]}"
   ]
  },
  {
   "cell_type": "code",
   "execution_count": 10,
   "metadata": {
    "ExecuteTime": {
     "end_time": "2021-07-10T17:54:12.348203Z",
     "start_time": "2021-07-10T17:54:12.336237Z"
    }
   },
   "outputs": [],
   "source": [
    "def label_param(df,param,group_by_param,label_values,label_names):\n",
    "    c = pd.cut(\n",
    "        df.stack(),\n",
    "        label_values,\n",
    "        labels = label_names\n",
    "    )\n",
    "    df_label = df.join(c.unstack().add_suffix('_cat'))\n",
    "    ranges = df_label.groupby([group_by_param,param+'_cat']).agg(['count','min','max'])\n",
    "    ranges = ranges[param]\n",
    "    ranges = ranges[ranges['count'] > 0]\n",
    "    return ranges\n",
    "\n",
    "# param = 'ph'\n",
    "# label_param(water,param,'Potability',dict_labels[param][0],dict_labels[param][1])\n",
    "\n",
    "# for param in water:\n",
    "#     if param != 'Potability':\n",
    "#         label_param(water,param,'Potability',dict_labels[param][0],dict_labels[param][1])"
   ]
  },
  {
   "cell_type": "code",
   "execution_count": 11,
   "metadata": {
    "ExecuteTime": {
     "end_time": "2021-07-10T17:54:12.364161Z",
     "start_time": "2021-07-10T17:54:12.350198Z"
    }
   },
   "outputs": [],
   "source": [
    "# c = pd.cut(\n",
    "#     water.stack(),\n",
    "#     [-np.inf, 0, 6.5, 8.5, 14, np.inf],\n",
    "#     labels = ['out_range_low', 'acid', 'potable','basic','out_range_high']\n",
    "# )\n",
    "# water_cat = water.join(c.unstack().add_suffix('_cat'))\n",
    "# ranges = water_cat.groupby(['Potability','ph'+'_cat']).agg(['count','min','max'])\n",
    "# ranges.ph"
   ]
  },
  {
   "cell_type": "code",
   "execution_count": 12,
   "metadata": {
    "ExecuteTime": {
     "end_time": "2021-07-10T17:54:14.874662Z",
     "start_time": "2021-07-10T17:54:12.366177Z"
    }
   },
   "outputs": [
    {
     "data": {
      "image/png": "[encoded data removed]",
      "text/plain": [
       "<Figure size 1440x1080 with 9 Axes>"
      ]
     },
     "metadata": {
      "needs_background": "light"
     },
     "output_type": "display_data"
    }
   ],
   "source": [
    "def visualize_all(df, b, r):\n",
    "    fig = plt.figure(figsize=(20,15))\n",
    "    rows = math.ceil(math.sqrt(len(water.keys())-1))\n",
    "    cols = math.floor(math.sqrt(len(water.keys())-1))\n",
    "    \n",
    "    ax_array = fig.subplots(rows, cols)\n",
    "\n",
    "    i = 0\n",
    "    for param in water.keys():\n",
    "        if param != 'Potability':\n",
    "            i = i + 1\n",
    "            potable = df[df['Potability']==1][param]\n",
    "            no_potable = df[df['Potability']==0][param]\n",
    "\n",
    "            ax = ax_array[math.ceil(i / cols)-1, ((i-1) % cols)]\n",
    "            ax.title.set_text(param)\n",
    "            ax.axvline(x=r[param][0], c='b', ls='--', alpha=.5)\n",
    "            ax.axvline(x=r[param][1], c='b', ls='--', alpha=.5)\n",
    "            ax.hist(potable, bins=b, color='black', alpha=1, label='potable')\n",
    "            ax.hist(no_potable, bins=b, color='green', alpha=0.4, label='non-potable')\n",
    "            ax.legend()\n",
    "            y_bottom, y_top = ax.get_ylim()\n",
    "            ax.fill_betweenx([0, y_top + 10], r[param][0], r[param][1], hatch=\"///\", facecolor=\"none\", edgecolor=\"b\", linewidth=0.01, alpha=.4)\n",
    "    plt.subplots_adjust(left=0.1,\n",
    "                    bottom=0.1,\n",
    "                    right=0.9,\n",
    "                    top=0.9,\n",
    "                    wspace=0.15, \n",
    "                    hspace=0.25)\n",
    "    plt.show()\n",
    "\n",
    "visualize_all(water,30,dict_range)"
   ]
  },
  {
   "cell_type": "markdown",
   "metadata": {},
   "source": [
    "Once all parameters have the mean and the standard deviation quite similar for the potable and non-potable categories and we have some missing values in the data, we could think that the the whole entry with some missing value would be bad data.\n",
    "\n",
    "To check this hypothesis we can check the distribution of the data without the mssing values below."
   ]
  },
  {
   "cell_type": "code",
   "execution_count": 13,
   "metadata": {
    "ExecuteTime": {
     "end_time": "2021-07-10T17:54:17.180607Z",
     "start_time": "2021-07-10T17:54:14.876630Z"
    }
   },
   "outputs": [
    {
     "data": {
      "image/png": "[encoded data removed]",
      "text/plain": [
       "<Figure size 1440x1080 with 9 Axes>"
      ]
     },
     "metadata": {
      "needs_background": "light"
     },
     "output_type": "display_data"
    }
   ],
   "source": [
    "visualize_all(water.dropna(),30,dict_range)"
   ]
  },
  {
   "cell_type": "markdown",
   "metadata": {},
   "source": [
    "- The data without the missing values does not showcase any improvement on the parameters' discrimination capability."
   ]
  },
  {
   "cell_type": "code",
   "execution_count": 14,
   "metadata": {
    "ExecuteTime": {
     "end_time": "2021-07-10T17:54:17.196527Z",
     "start_time": "2021-07-10T17:54:17.182563Z"
    }
   },
   "outputs": [],
   "source": [
    "potable = water[water['Potability']==1]\n",
    "acid_potable = potable[potable['ph'] < 6.5].ph.count()\n",
    "# acid_potable"
   ]
  },
  {
   "cell_type": "markdown",
   "metadata": {},
   "source": [
    "### Insights\n",
    "\n",
    "#### Absence of statistical significance\n",
    "- Potable and non-potable averages and distribution are quite similar for all parameters. This leads to a poor statistical significance when statistics is applied to such data.\n",
    "\n",
    "\n",
    "#### Wrong classification\n",
    "- By the WHO, pH < 6.5 is not considered as potable water, however we have 258 rows classified as potable with pH < 6.5. For example, the pH of gastric acid is 1.5 to 3.5 and in the data we have a pH 0.22 classified as potable. Something is wrong.\n",
    "\n",
    "- For all the parameters, a considerable amount of data is being classified as potable being outside the presumed potable range. The opposite also is true, a lot of entries are classified as non-potable while belonging to the presumed potable range.\n",
    "\n",
    "#### All data out of the desired range\n",
    "- `Solids`, `Sulfates`, and `Organic Carbon` distributions are completely out of what is considered potable."
   ]
  },
  {
   "cell_type": "markdown",
   "metadata": {},
   "source": [
    "## Labeled data"
   ]
  },
  {
   "cell_type": "markdown",
   "metadata": {},
   "source": [
    "Following we have all the data labeled using the potable range for each paramater. We showcase the count, the minimum, and the maximum."
   ]
  },
  {
   "cell_type": "code",
   "execution_count": 15,
   "metadata": {
    "ExecuteTime": {
     "end_time": "2021-07-10T17:54:17.211518Z",
     "start_time": "2021-07-10T17:54:17.199519Z"
    }
   },
   "outputs": [],
   "source": [
    "# Create a table for all parameters labeled\n",
    "# for p in water.keys():\n",
    "#     if p != 'Potability':\n",
    "#         label_param(water,p,'Potability',dict_labels[param][0],dict_labels[param][1])\n",
    "\n",
    "\n",
    "\n",
    "# fig, axs = plt.subplots(2, 2)\n",
    "# axs[0, 0].plot(x, y)\n",
    "# axs[0, 0].set_title('Axis [0, 0]')\n",
    "# axs[0, 1].plot(x, y, 'tab:orange')\n",
    "# axs[0, 1].set_title('Axis [0, 1]')\n",
    "# axs[1, 0].plot(x, -y, 'tab:green')\n",
    "# axs[1, 0].set_title('Axis [1, 0]')\n",
    "# axs[1, 1].plot(x, -y, 'tab:red')\n",
    "# axs[1, 1].set_title('Axis [1, 1]')\n",
    "\n",
    "# for ax in axs.flat:\n",
    "#     ax.set(xlabel='x-label', ylabel='y-label')\n",
    "\n",
    "# # Hide x labels and tick labels for top plots and y ticks for right plots.\n",
    "# for ax in axs.flat:\n",
    "#     ax.label_outer()"
   ]
  },
  {
   "cell_type": "code",
   "execution_count": 16,
   "metadata": {
    "ExecuteTime": {
     "end_time": "2021-07-10T17:54:17.557561Z",
     "start_time": "2021-07-10T17:54:17.213490Z"
    },
    "scrolled": true
   },
   "outputs": [
    {
     "data": {
      "text/html": [
       "<div>\n",
       "<style scoped>\n",
       "    .dataframe tbody tr th:only-of-type {\n",
       "        vertical-align: middle;\n",
       "    }\n",
       "\n",
       "    .dataframe tbody tr th {\n",
       "        vertical-align: top;\n",
       "    }\n",
       "\n",
       "    .dataframe thead th {\n",
       "        text-align: right;\n",
       "    }\n",
       "</style>\n",
       "<table border=\"1\" class=\"dataframe\">\n",
       "  <thead>\n",
       "    <tr style=\"text-align: right;\">\n",
       "      <th></th>\n",
       "      <th></th>\n",
       "      <th>count</th>\n",
       "      <th>min</th>\n",
       "      <th>max</th>\n",
       "    </tr>\n",
       "    <tr>\n",
       "      <th>Potability</th>\n",
       "      <th>ph_cat</th>\n",
       "      <th></th>\n",
       "      <th></th>\n",
       "      <th></th>\n",
       "    </tr>\n",
       "  </thead>\n",
       "  <tbody>\n",
       "    <tr>\n",
       "      <th rowspan=\"4\" valign=\"top\">0</th>\n",
       "      <th>out_range_low</th>\n",
       "      <td>1</td>\n",
       "      <td>0.00</td>\n",
       "      <td>0.00</td>\n",
       "    </tr>\n",
       "    <tr>\n",
       "      <th>acid</th>\n",
       "      <td>611</td>\n",
       "      <td>0.98</td>\n",
       "      <td>6.50</td>\n",
       "    </tr>\n",
       "    <tr>\n",
       "      <th>potable</th>\n",
       "      <td>745</td>\n",
       "      <td>6.50</td>\n",
       "      <td>8.49</td>\n",
       "    </tr>\n",
       "    <tr>\n",
       "      <th>basic</th>\n",
       "      <td>327</td>\n",
       "      <td>8.51</td>\n",
       "      <td>14.00</td>\n",
       "    </tr>\n",
       "    <tr>\n",
       "      <th rowspan=\"3\" valign=\"top\">1</th>\n",
       "      <th>acid</th>\n",
       "      <td>356</td>\n",
       "      <td>0.23</td>\n",
       "      <td>6.49</td>\n",
       "    </tr>\n",
       "    <tr>\n",
       "      <th>potable</th>\n",
       "      <td>583</td>\n",
       "      <td>6.50</td>\n",
       "      <td>8.47</td>\n",
       "    </tr>\n",
       "    <tr>\n",
       "      <th>basic</th>\n",
       "      <td>162</td>\n",
       "      <td>8.50</td>\n",
       "      <td>13.18</td>\n",
       "    </tr>\n",
       "  </tbody>\n",
       "</table>\n",
       "</div>"
      ],
      "text/plain": [
       "                          count  min   max\n",
       "Potability ph_cat                         \n",
       "0          out_range_low      1 0.00  0.00\n",
       "           acid             611 0.98  6.50\n",
       "           potable          745 6.50  8.49\n",
       "           basic            327 8.51 14.00\n",
       "1          acid             356 0.23  6.49\n",
       "           potable          583 6.50  8.47\n",
       "           basic            162 8.50 13.18"
      ]
     },
     "execution_count": 16,
     "metadata": {},
     "output_type": "execute_result"
    }
   ],
   "source": [
    "param = 'ph'\n",
    "label_param(water,param,'Potability',dict_labels[param][0],dict_labels[param][1])"
   ]
  },
  {
   "cell_type": "code",
   "execution_count": 17,
   "metadata": {
    "ExecuteTime": {
     "end_time": "2021-07-10T17:54:17.873741Z",
     "start_time": "2021-07-10T17:54:17.559555Z"
    },
    "scrolled": true
   },
   "outputs": [
    {
     "data": {
      "text/html": [
       "<div>\n",
       "<style scoped>\n",
       "    .dataframe tbody tr th:only-of-type {\n",
       "        vertical-align: middle;\n",
       "    }\n",
       "\n",
       "    .dataframe tbody tr th {\n",
       "        vertical-align: top;\n",
       "    }\n",
       "\n",
       "    .dataframe thead th {\n",
       "        text-align: right;\n",
       "    }\n",
       "</style>\n",
       "<table border=\"1\" class=\"dataframe\">\n",
       "  <thead>\n",
       "    <tr style=\"text-align: right;\">\n",
       "      <th></th>\n",
       "      <th></th>\n",
       "      <th>count</th>\n",
       "      <th>min</th>\n",
       "      <th>max</th>\n",
       "    </tr>\n",
       "    <tr>\n",
       "      <th>Potability</th>\n",
       "      <th>Hardness_cat</th>\n",
       "      <th></th>\n",
       "      <th></th>\n",
       "      <th></th>\n",
       "    </tr>\n",
       "  </thead>\n",
       "  <tbody>\n",
       "    <tr>\n",
       "      <th rowspan=\"3\" valign=\"top\">0</th>\n",
       "      <th>below</th>\n",
       "      <td>25</td>\n",
       "      <td>98.45</td>\n",
       "      <td>119.89</td>\n",
       "    </tr>\n",
       "    <tr>\n",
       "      <th>potable</th>\n",
       "      <td>342</td>\n",
       "      <td>120.10</td>\n",
       "      <td>169.94</td>\n",
       "    </tr>\n",
       "    <tr>\n",
       "      <th>above</th>\n",
       "      <td>1631</td>\n",
       "      <td>170.00</td>\n",
       "      <td>304.24</td>\n",
       "    </tr>\n",
       "    <tr>\n",
       "      <th rowspan=\"3\" valign=\"top\">1</th>\n",
       "      <th>below</th>\n",
       "      <td>27</td>\n",
       "      <td>47.43</td>\n",
       "      <td>119.84</td>\n",
       "    </tr>\n",
       "    <tr>\n",
       "      <th>potable</th>\n",
       "      <td>263</td>\n",
       "      <td>120.02</td>\n",
       "      <td>169.97</td>\n",
       "    </tr>\n",
       "    <tr>\n",
       "      <th>above</th>\n",
       "      <td>988</td>\n",
       "      <td>170.13</td>\n",
       "      <td>323.12</td>\n",
       "    </tr>\n",
       "  </tbody>\n",
       "</table>\n",
       "</div>"
      ],
      "text/plain": [
       "                         count    min    max\n",
       "Potability Hardness_cat                     \n",
       "0          below            25  98.45 119.89\n",
       "           potable         342 120.10 169.94\n",
       "           above          1631 170.00 304.24\n",
       "1          below            27  47.43 119.84\n",
       "           potable         263 120.02 169.97\n",
       "           above           988 170.13 323.12"
      ]
     },
     "execution_count": 17,
     "metadata": {},
     "output_type": "execute_result"
    }
   ],
   "source": [
    "param = 'Hardness'\n",
    "label_param(water,param,'Potability',dict_labels[param][0],dict_labels[param][1])"
   ]
  },
  {
   "cell_type": "code",
   "execution_count": 18,
   "metadata": {
    "ExecuteTime": {
     "end_time": "2021-07-10T17:54:18.188899Z",
     "start_time": "2021-07-10T17:54:17.875712Z"
    }
   },
   "outputs": [
    {
     "data": {
      "text/html": [
       "<div>\n",
       "<style scoped>\n",
       "    .dataframe tbody tr th:only-of-type {\n",
       "        vertical-align: middle;\n",
       "    }\n",
       "\n",
       "    .dataframe tbody tr th {\n",
       "        vertical-align: top;\n",
       "    }\n",
       "\n",
       "    .dataframe thead th {\n",
       "        text-align: right;\n",
       "    }\n",
       "</style>\n",
       "<table border=\"1\" class=\"dataframe\">\n",
       "  <thead>\n",
       "    <tr style=\"text-align: right;\">\n",
       "      <th></th>\n",
       "      <th></th>\n",
       "      <th>count</th>\n",
       "      <th>min</th>\n",
       "      <th>max</th>\n",
       "    </tr>\n",
       "    <tr>\n",
       "      <th>Potability</th>\n",
       "      <th>Solids_cat</th>\n",
       "      <th></th>\n",
       "      <th></th>\n",
       "      <th></th>\n",
       "    </tr>\n",
       "  </thead>\n",
       "  <tbody>\n",
       "    <tr>\n",
       "      <th rowspan=\"2\" valign=\"top\">0</th>\n",
       "      <th>low</th>\n",
       "      <td>1</td>\n",
       "      <td>320.94</td>\n",
       "      <td>320.94</td>\n",
       "    </tr>\n",
       "    <tr>\n",
       "      <th>high</th>\n",
       "      <td>1997</td>\n",
       "      <td>2552.96</td>\n",
       "      <td>61227.20</td>\n",
       "    </tr>\n",
       "    <tr>\n",
       "      <th rowspan=\"2\" valign=\"top\">1</th>\n",
       "      <th>potable</th>\n",
       "      <td>1</td>\n",
       "      <td>728.75</td>\n",
       "      <td>728.75</td>\n",
       "    </tr>\n",
       "    <tr>\n",
       "      <th>high</th>\n",
       "      <td>1277</td>\n",
       "      <td>1198.94</td>\n",
       "      <td>56488.67</td>\n",
       "    </tr>\n",
       "  </tbody>\n",
       "</table>\n",
       "</div>"
      ],
      "text/plain": [
       "                       count     min      max\n",
       "Potability Solids_cat                        \n",
       "0          low             1  320.94   320.94\n",
       "           high         1997 2552.96 61227.20\n",
       "1          potable         1  728.75   728.75\n",
       "           high         1277 1198.94 56488.67"
      ]
     },
     "execution_count": 18,
     "metadata": {},
     "output_type": "execute_result"
    }
   ],
   "source": [
    "param = 'Solids'\n",
    "label_param(water,param,'Potability',dict_labels[param][0],dict_labels[param][1])"
   ]
  },
  {
   "cell_type": "code",
   "execution_count": 19,
   "metadata": {
    "ExecuteTime": {
     "end_time": "2021-07-10T17:54:18.518019Z",
     "start_time": "2021-07-10T17:54:18.191865Z"
    }
   },
   "outputs": [
    {
     "data": {
      "text/html": [
       "<div>\n",
       "<style scoped>\n",
       "    .dataframe tbody tr th:only-of-type {\n",
       "        vertical-align: middle;\n",
       "    }\n",
       "\n",
       "    .dataframe tbody tr th {\n",
       "        vertical-align: top;\n",
       "    }\n",
       "\n",
       "    .dataframe thead th {\n",
       "        text-align: right;\n",
       "    }\n",
       "</style>\n",
       "<table border=\"1\" class=\"dataframe\">\n",
       "  <thead>\n",
       "    <tr style=\"text-align: right;\">\n",
       "      <th></th>\n",
       "      <th></th>\n",
       "      <th>count</th>\n",
       "      <th>min</th>\n",
       "      <th>max</th>\n",
       "    </tr>\n",
       "    <tr>\n",
       "      <th>Potability</th>\n",
       "      <th>Chloramines_cat</th>\n",
       "      <th></th>\n",
       "      <th></th>\n",
       "      <th></th>\n",
       "    </tr>\n",
       "  </thead>\n",
       "  <tbody>\n",
       "    <tr>\n",
       "      <th rowspan=\"2\" valign=\"top\">0</th>\n",
       "      <th>potable</th>\n",
       "      <td>53</td>\n",
       "      <td>1.68</td>\n",
       "      <td>4.00</td>\n",
       "    </tr>\n",
       "    <tr>\n",
       "      <th>high</th>\n",
       "      <td>1945</td>\n",
       "      <td>4.01</td>\n",
       "      <td>12.65</td>\n",
       "    </tr>\n",
       "    <tr>\n",
       "      <th rowspan=\"2\" valign=\"top\">1</th>\n",
       "      <th>potable</th>\n",
       "      <td>36</td>\n",
       "      <td>0.35</td>\n",
       "      <td>3.92</td>\n",
       "    </tr>\n",
       "    <tr>\n",
       "      <th>high</th>\n",
       "      <td>1242</td>\n",
       "      <td>4.01</td>\n",
       "      <td>13.13</td>\n",
       "    </tr>\n",
       "  </tbody>\n",
       "</table>\n",
       "</div>"
      ],
      "text/plain": [
       "                            count  min   max\n",
       "Potability Chloramines_cat                  \n",
       "0          potable             53 1.68  4.00\n",
       "           high              1945 4.01 12.65\n",
       "1          potable             36 0.35  3.92\n",
       "           high              1242 4.01 13.13"
      ]
     },
     "execution_count": 19,
     "metadata": {},
     "output_type": "execute_result"
    }
   ],
   "source": [
    "param = 'Chloramines'\n",
    "label_param(water,param,'Potability',dict_labels[param][0],dict_labels[param][1])"
   ]
  },
  {
   "cell_type": "code",
   "execution_count": 20,
   "metadata": {
    "ExecuteTime": {
     "end_time": "2021-07-10T17:54:18.821184Z",
     "start_time": "2021-07-10T17:54:18.520004Z"
    }
   },
   "outputs": [
    {
     "data": {
      "text/html": [
       "<div>\n",
       "<style scoped>\n",
       "    .dataframe tbody tr th:only-of-type {\n",
       "        vertical-align: middle;\n",
       "    }\n",
       "\n",
       "    .dataframe tbody tr th {\n",
       "        vertical-align: top;\n",
       "    }\n",
       "\n",
       "    .dataframe thead th {\n",
       "        text-align: right;\n",
       "    }\n",
       "</style>\n",
       "<table border=\"1\" class=\"dataframe\">\n",
       "  <thead>\n",
       "    <tr style=\"text-align: right;\">\n",
       "      <th></th>\n",
       "      <th></th>\n",
       "      <th>count</th>\n",
       "      <th>min</th>\n",
       "      <th>max</th>\n",
       "    </tr>\n",
       "    <tr>\n",
       "      <th>Potability</th>\n",
       "      <th>Sulfate_cat</th>\n",
       "      <th></th>\n",
       "      <th></th>\n",
       "      <th></th>\n",
       "    </tr>\n",
       "  </thead>\n",
       "  <tbody>\n",
       "    <tr>\n",
       "      <th>0</th>\n",
       "      <th>high</th>\n",
       "      <td>1510</td>\n",
       "      <td>203.44</td>\n",
       "      <td>460.11</td>\n",
       "    </tr>\n",
       "    <tr>\n",
       "      <th>1</th>\n",
       "      <th>high</th>\n",
       "      <td>985</td>\n",
       "      <td>129.00</td>\n",
       "      <td>481.03</td>\n",
       "    </tr>\n",
       "  </tbody>\n",
       "</table>\n",
       "</div>"
      ],
      "text/plain": [
       "                        count    min    max\n",
       "Potability Sulfate_cat                     \n",
       "0          high          1510 203.44 460.11\n",
       "1          high           985 129.00 481.03"
      ]
     },
     "execution_count": 20,
     "metadata": {},
     "output_type": "execute_result"
    }
   ],
   "source": [
    "param = 'Sulfate'\n",
    "label_param(water,param,'Potability',dict_labels[param][0],dict_labels[param][1])"
   ]
  },
  {
   "cell_type": "code",
   "execution_count": 21,
   "metadata": {
    "ExecuteTime": {
     "end_time": "2021-07-10T17:54:19.156379Z",
     "start_time": "2021-07-10T17:54:18.823180Z"
    }
   },
   "outputs": [
    {
     "data": {
      "text/html": [
       "<div>\n",
       "<style scoped>\n",
       "    .dataframe tbody tr th:only-of-type {\n",
       "        vertical-align: middle;\n",
       "    }\n",
       "\n",
       "    .dataframe tbody tr th {\n",
       "        vertical-align: top;\n",
       "    }\n",
       "\n",
       "    .dataframe thead th {\n",
       "        text-align: right;\n",
       "    }\n",
       "</style>\n",
       "<table border=\"1\" class=\"dataframe\">\n",
       "  <thead>\n",
       "    <tr style=\"text-align: right;\">\n",
       "      <th></th>\n",
       "      <th></th>\n",
       "      <th>count</th>\n",
       "      <th>min</th>\n",
       "      <th>max</th>\n",
       "    </tr>\n",
       "    <tr>\n",
       "      <th>Potability</th>\n",
       "      <th>Conductivity_cat</th>\n",
       "      <th></th>\n",
       "      <th></th>\n",
       "      <th></th>\n",
       "    </tr>\n",
       "  </thead>\n",
       "  <tbody>\n",
       "    <tr>\n",
       "      <th rowspan=\"2\" valign=\"top\">0</th>\n",
       "      <th>potable</th>\n",
       "      <td>798</td>\n",
       "      <td>181.48</td>\n",
       "      <td>399.95</td>\n",
       "    </tr>\n",
       "    <tr>\n",
       "      <th>high</th>\n",
       "      <td>1200</td>\n",
       "      <td>400.00</td>\n",
       "      <td>753.34</td>\n",
       "    </tr>\n",
       "    <tr>\n",
       "      <th rowspan=\"2\" valign=\"top\">1</th>\n",
       "      <th>potable</th>\n",
       "      <td>516</td>\n",
       "      <td>201.62</td>\n",
       "      <td>399.77</td>\n",
       "    </tr>\n",
       "    <tr>\n",
       "      <th>high</th>\n",
       "      <td>762</td>\n",
       "      <td>400.45</td>\n",
       "      <td>695.37</td>\n",
       "    </tr>\n",
       "  </tbody>\n",
       "</table>\n",
       "</div>"
      ],
      "text/plain": [
       "                             count    min    max\n",
       "Potability Conductivity_cat                     \n",
       "0          potable             798 181.48 399.95\n",
       "           high               1200 400.00 753.34\n",
       "1          potable             516 201.62 399.77\n",
       "           high                762 400.45 695.37"
      ]
     },
     "execution_count": 21,
     "metadata": {},
     "output_type": "execute_result"
    }
   ],
   "source": [
    "param = 'Conductivity'\n",
    "label_param(water,param,'Potability',dict_labels[param][0],dict_labels[param][1])"
   ]
  },
  {
   "cell_type": "code",
   "execution_count": 22,
   "metadata": {
    "ExecuteTime": {
     "end_time": "2021-07-10T17:54:19.468558Z",
     "start_time": "2021-07-10T17:54:19.162337Z"
    }
   },
   "outputs": [
    {
     "data": {
      "text/html": [
       "<div>\n",
       "<style scoped>\n",
       "    .dataframe tbody tr th:only-of-type {\n",
       "        vertical-align: middle;\n",
       "    }\n",
       "\n",
       "    .dataframe tbody tr th {\n",
       "        vertical-align: top;\n",
       "    }\n",
       "\n",
       "    .dataframe thead th {\n",
       "        text-align: right;\n",
       "    }\n",
       "</style>\n",
       "<table border=\"1\" class=\"dataframe\">\n",
       "  <thead>\n",
       "    <tr style=\"text-align: right;\">\n",
       "      <th></th>\n",
       "      <th></th>\n",
       "      <th>count</th>\n",
       "      <th>min</th>\n",
       "      <th>max</th>\n",
       "    </tr>\n",
       "    <tr>\n",
       "      <th>Potability</th>\n",
       "      <th>Organic_carbon_cat</th>\n",
       "      <th></th>\n",
       "      <th></th>\n",
       "      <th></th>\n",
       "    </tr>\n",
       "  </thead>\n",
       "  <tbody>\n",
       "    <tr>\n",
       "      <th>0</th>\n",
       "      <th>high</th>\n",
       "      <td>1998</td>\n",
       "      <td>4.37</td>\n",
       "      <td>28.30</td>\n",
       "    </tr>\n",
       "    <tr>\n",
       "      <th rowspan=\"2\" valign=\"top\">1</th>\n",
       "      <th>to be treated</th>\n",
       "      <td>1</td>\n",
       "      <td>2.20</td>\n",
       "      <td>2.20</td>\n",
       "    </tr>\n",
       "    <tr>\n",
       "      <th>high</th>\n",
       "      <td>1277</td>\n",
       "      <td>5.20</td>\n",
       "      <td>23.60</td>\n",
       "    </tr>\n",
       "  </tbody>\n",
       "</table>\n",
       "</div>"
      ],
      "text/plain": [
       "                               count  min   max\n",
       "Potability Organic_carbon_cat                  \n",
       "0          high                 1998 4.37 28.30\n",
       "1          to be treated           1 2.20  2.20\n",
       "           high                 1277 5.20 23.60"
      ]
     },
     "execution_count": 22,
     "metadata": {},
     "output_type": "execute_result"
    }
   ],
   "source": [
    "param = 'Organic_carbon'\n",
    "label_param(water,param,'Potability',dict_labels[param][0],dict_labels[param][1])\n"
   ]
  },
  {
   "cell_type": "code",
   "execution_count": 23,
   "metadata": {
    "ExecuteTime": {
     "end_time": "2021-07-10T17:54:19.802625Z",
     "start_time": "2021-07-10T17:54:19.472510Z"
    }
   },
   "outputs": [
    {
     "data": {
      "text/html": [
       "<div>\n",
       "<style scoped>\n",
       "    .dataframe tbody tr th:only-of-type {\n",
       "        vertical-align: middle;\n",
       "    }\n",
       "\n",
       "    .dataframe tbody tr th {\n",
       "        vertical-align: top;\n",
       "    }\n",
       "\n",
       "    .dataframe thead th {\n",
       "        text-align: right;\n",
       "    }\n",
       "</style>\n",
       "<table border=\"1\" class=\"dataframe\">\n",
       "  <thead>\n",
       "    <tr style=\"text-align: right;\">\n",
       "      <th></th>\n",
       "      <th></th>\n",
       "      <th>count</th>\n",
       "      <th>min</th>\n",
       "      <th>max</th>\n",
       "    </tr>\n",
       "    <tr>\n",
       "      <th>Potability</th>\n",
       "      <th>Trihalomethanes_cat</th>\n",
       "      <th></th>\n",
       "      <th></th>\n",
       "      <th></th>\n",
       "    </tr>\n",
       "  </thead>\n",
       "  <tbody>\n",
       "    <tr>\n",
       "      <th rowspan=\"2\" valign=\"top\">0</th>\n",
       "      <th>potable</th>\n",
       "      <td>1527</td>\n",
       "      <td>0.74</td>\n",
       "      <td>79.95</td>\n",
       "    </tr>\n",
       "    <tr>\n",
       "      <th>high</th>\n",
       "      <td>364</td>\n",
       "      <td>80.08</td>\n",
       "      <td>120.03</td>\n",
       "    </tr>\n",
       "    <tr>\n",
       "      <th rowspan=\"2\" valign=\"top\">1</th>\n",
       "      <th>potable</th>\n",
       "      <td>985</td>\n",
       "      <td>8.18</td>\n",
       "      <td>79.97</td>\n",
       "    </tr>\n",
       "    <tr>\n",
       "      <th>high</th>\n",
       "      <td>238</td>\n",
       "      <td>80.01</td>\n",
       "      <td>124.00</td>\n",
       "    </tr>\n",
       "  </tbody>\n",
       "</table>\n",
       "</div>"
      ],
      "text/plain": [
       "                                count   min    max\n",
       "Potability Trihalomethanes_cat                    \n",
       "0          potable               1527  0.74  79.95\n",
       "           high                   364 80.08 120.03\n",
       "1          potable                985  8.18  79.97\n",
       "           high                   238 80.01 124.00"
      ]
     },
     "execution_count": 23,
     "metadata": {},
     "output_type": "execute_result"
    }
   ],
   "source": [
    "param = 'Trihalomethanes'\n",
    "label_param(water,param,'Potability',dict_labels[param][0],dict_labels[param][1])"
   ]
  },
  {
   "cell_type": "code",
   "execution_count": 24,
   "metadata": {
    "ExecuteTime": {
     "end_time": "2021-07-10T17:54:20.133716Z",
     "start_time": "2021-07-10T17:54:19.804620Z"
    }
   },
   "outputs": [
    {
     "data": {
      "text/html": [
       "<div>\n",
       "<style scoped>\n",
       "    .dataframe tbody tr th:only-of-type {\n",
       "        vertical-align: middle;\n",
       "    }\n",
       "\n",
       "    .dataframe tbody tr th {\n",
       "        vertical-align: top;\n",
       "    }\n",
       "\n",
       "    .dataframe thead th {\n",
       "        text-align: right;\n",
       "    }\n",
       "</style>\n",
       "<table border=\"1\" class=\"dataframe\">\n",
       "  <thead>\n",
       "    <tr style=\"text-align: right;\">\n",
       "      <th></th>\n",
       "      <th></th>\n",
       "      <th>count</th>\n",
       "      <th>min</th>\n",
       "      <th>max</th>\n",
       "    </tr>\n",
       "    <tr>\n",
       "      <th>Potability</th>\n",
       "      <th>Turbidity_cat</th>\n",
       "      <th></th>\n",
       "      <th></th>\n",
       "      <th></th>\n",
       "    </tr>\n",
       "  </thead>\n",
       "  <tbody>\n",
       "    <tr>\n",
       "      <th rowspan=\"2\" valign=\"top\">0</th>\n",
       "      <th>potable</th>\n",
       "      <td>1801</td>\n",
       "      <td>1.45</td>\n",
       "      <td>4.99</td>\n",
       "    </tr>\n",
       "    <tr>\n",
       "      <th>high</th>\n",
       "      <td>197</td>\n",
       "      <td>5.00</td>\n",
       "      <td>6.74</td>\n",
       "    </tr>\n",
       "    <tr>\n",
       "      <th rowspan=\"2\" valign=\"top\">1</th>\n",
       "      <th>potable</th>\n",
       "      <td>1161</td>\n",
       "      <td>1.49</td>\n",
       "      <td>5.00</td>\n",
       "    </tr>\n",
       "    <tr>\n",
       "      <th>high</th>\n",
       "      <td>117</td>\n",
       "      <td>5.00</td>\n",
       "      <td>6.49</td>\n",
       "    </tr>\n",
       "  </tbody>\n",
       "</table>\n",
       "</div>"
      ],
      "text/plain": [
       "                          count  min  max\n",
       "Potability Turbidity_cat                 \n",
       "0          potable         1801 1.45 4.99\n",
       "           high             197 5.00 6.74\n",
       "1          potable         1161 1.49 5.00\n",
       "           high             117 5.00 6.49"
      ]
     },
     "execution_count": 24,
     "metadata": {},
     "output_type": "execute_result"
    }
   ],
   "source": [
    "param = 'Turbidity'\n",
    "label_param(water,param,'Potability',dict_labels[param][0],dict_labels[param][1])"
   ]
  },
  {
   "cell_type": "markdown",
   "metadata": {},
   "source": [
    "## Initial considerations about the data"
   ]
  },
  {
   "cell_type": "markdown",
   "metadata": {},
   "source": [
    "- Data is showing to be not a reliable source of information for the classification of the water as potable or non-potable:\n",
    "    - The shape and spread of the distribution of all parameters for potable and non-potable water overlaps. It indicates that statistical analysis won't be effective due to a poor statistical significance.\n",
    "    - Classification is incorrect when compared to what it should be accordingly to the WHO recommendations for each parameter.\n",
    "    - `Chloramines` distribution, the amount of Chlorine in the water, it may suggest that data is composed by heavily treated water once the majority of the data is above the potable range. We can imagine that, even after an intense treatment, they were classified as potable because there were no other water source available, and the WHO criterias were not considered. If data came from somewhere were WHO standards are strictly followed, then we could confirm a big issue with the classification data.\n",
    " \n",
    "Although the exploratory data analysis suggests that the classification is wrong, we will consider it as correct once we don't have further information about the origin of the data. However, we are no expecting a good performance of the models once the data for potable and non-potalbe are quite similar and not the best for the modelling."
   ]
  },
  {
   "cell_type": "markdown",
   "metadata": {},
   "source": [
    "## Principle components analysis [(PCA)](https://scikit-learn.org/stable/modules/generated/sklearn.decomposition.PCA.html#sklearn.decomposition.PCA)"
   ]
  },
  {
   "cell_type": "markdown",
   "metadata": {},
   "source": [
    "The basic steps in this process are:\n",
    "\n",
    "1. scale the data\n",
    " fit the PCA transformation\n",
    "3. apply the transformation to the data to create the derived features\n",
    "4. (optionally) use the derived features to look for patterns in the data and explore the coefficients"
   ]
  },
  {
   "cell_type": "markdown",
   "metadata": {},
   "source": [
    "### Scale the data"
   ]
  },
  {
   "cell_type": "code",
   "execution_count": 25,
   "metadata": {
    "ExecuteTime": {
     "end_time": "2021-07-10T17:54:20.181479Z",
     "start_time": "2021-07-10T17:54:20.135602Z"
    }
   },
   "outputs": [
    {
     "data": {
      "text/plain": [
       "Hardness           float64\n",
       "Solids             float64\n",
       "Chloramines        float64\n",
       "Sulfate            float64\n",
       "Conductivity       float64\n",
       "Organic_carbon     float64\n",
       "Trihalomethanes    float64\n",
       "Turbidity          float64\n",
       "dtype: object"
      ]
     },
     "execution_count": 25,
     "metadata": {},
     "output_type": "execute_result"
    }
   ],
   "source": [
    "water_summary = water.groupby('ph').agg(\n",
    "#     count=pd.NamedAgg(column='Hardness', aggfunc='size'), #could pick any column here\n",
    "    Hardness=pd.NamedAgg(column='Hardness', aggfunc='sum'),\n",
    "    Solids=pd.NamedAgg(column='Solids', aggfunc='sum'),\n",
    "    Chloramines=pd.NamedAgg(column='Chloramines', aggfunc='sum'),\n",
    "    Sulfate=pd.NamedAgg(column='Sulfate', aggfunc='sum'),\n",
    "    Conductivity=pd.NamedAgg(column='Conductivity', aggfunc='sum'),\n",
    "    Organic_carbon=pd.NamedAgg(column='Organic_carbon', aggfunc='sum'),\n",
    "    Trihalomethanes=pd.NamedAgg(column='Trihalomethanes', aggfunc='sum'),\n",
    "    Turbidity=pd.NamedAgg(column='Turbidity', aggfunc='sum'),\n",
    "# Potability=pd.NamedAgg(column='Potability', aggfunc='sum'),\n",
    ").reset_index()\n",
    "# water_summary.head()\n",
    "\n",
    "#New dataframe, `db_summary_scale` from `db_summary` whilst setting the index to the selected criteria\n",
    "df_summary_scale = water_summary.set_index('ph',drop=True)\n",
    "water_summary = water_summary.set_index('ph',drop=True)\n",
    "#Save the index's labels (using the index attribute of `db_summary_scale`) into the variable 'db_summary_index'\n",
    "df_summary_index = df_summary_scale.index\n",
    "#Save the column names (using the `columns` attribute) of `db_summary_scale` into the variable 'db_summary_columns'\n",
    "df_summary_columns = df_summary_scale.columns\n",
    "# df_summary_scale.head()\n",
    "df_summary_scale.dtypes"
   ]
  },
  {
   "cell_type": "markdown",
   "metadata": {},
   "source": [
    "- Columns are all numeric"
   ]
  },
  {
   "cell_type": "code",
   "execution_count": 26,
   "metadata": {
    "ExecuteTime": {
     "end_time": "2021-07-10T17:54:20.197464Z",
     "start_time": "2021-07-10T17:54:20.183474Z"
    }
   },
   "outputs": [],
   "source": [
    "# Scale data\n",
    "df_summary_scale = scale(df_summary_scale)\n",
    "\n",
    "#Create a new dataframe from `db_summary_scale` using the column names `db_summary_columns`\n",
    "df_summary_scaled_df = pd.DataFrame(df_summary_scale, columns=df_summary_columns)\n",
    "# df_summary_scaled_df.head()"
   ]
  },
  {
   "cell_type": "markdown",
   "metadata": {},
   "source": [
    "#### Verifying the scaling"
   ]
  },
  {
   "cell_type": "markdown",
   "metadata": {},
   "source": [
    "Validating the scaling:\n",
    "- Check the average, standard deviation, and unbiased standard deviation estimator (ddof = 1)"
   ]
  },
  {
   "cell_type": "code",
   "execution_count": 27,
   "metadata": {
    "ExecuteTime": {
     "end_time": "2021-07-10T17:54:20.229351Z",
     "start_time": "2021-07-10T17:54:20.199449Z"
    }
   },
   "outputs": [
    {
     "data": {
      "text/html": [
       "<div>\n",
       "<style scoped>\n",
       "    .dataframe tbody tr th:only-of-type {\n",
       "        vertical-align: middle;\n",
       "    }\n",
       "\n",
       "    .dataframe tbody tr th {\n",
       "        vertical-align: top;\n",
       "    }\n",
       "\n",
       "    .dataframe thead th {\n",
       "        text-align: right;\n",
       "    }\n",
       "</style>\n",
       "<table border=\"1\" class=\"dataframe\">\n",
       "  <thead>\n",
       "    <tr style=\"text-align: right;\">\n",
       "      <th></th>\n",
       "      <th>mean</th>\n",
       "      <th>std</th>\n",
       "      <th>ddof_1</th>\n",
       "    </tr>\n",
       "  </thead>\n",
       "  <tbody>\n",
       "    <tr>\n",
       "      <th>Hardness</th>\n",
       "      <td>0.00</td>\n",
       "      <td>1.00</td>\n",
       "      <td>1.00</td>\n",
       "    </tr>\n",
       "    <tr>\n",
       "      <th>Solids</th>\n",
       "      <td>0.00</td>\n",
       "      <td>1.00</td>\n",
       "      <td>1.00</td>\n",
       "    </tr>\n",
       "    <tr>\n",
       "      <th>Chloramines</th>\n",
       "      <td>-0.00</td>\n",
       "      <td>1.00</td>\n",
       "      <td>1.00</td>\n",
       "    </tr>\n",
       "    <tr>\n",
       "      <th>Sulfate</th>\n",
       "      <td>0.00</td>\n",
       "      <td>1.00</td>\n",
       "      <td>1.00</td>\n",
       "    </tr>\n",
       "    <tr>\n",
       "      <th>Conductivity</th>\n",
       "      <td>-0.00</td>\n",
       "      <td>1.00</td>\n",
       "      <td>1.00</td>\n",
       "    </tr>\n",
       "    <tr>\n",
       "      <th>Organic_carbon</th>\n",
       "      <td>-0.00</td>\n",
       "      <td>1.00</td>\n",
       "      <td>1.00</td>\n",
       "    </tr>\n",
       "    <tr>\n",
       "      <th>Trihalomethanes</th>\n",
       "      <td>0.00</td>\n",
       "      <td>1.00</td>\n",
       "      <td>1.00</td>\n",
       "    </tr>\n",
       "    <tr>\n",
       "      <th>Turbidity</th>\n",
       "      <td>-0.00</td>\n",
       "      <td>1.00</td>\n",
       "      <td>1.00</td>\n",
       "    </tr>\n",
       "  </tbody>\n",
       "</table>\n",
       "</div>"
      ],
      "text/plain": [
       "                 mean  std  ddof_1\n",
       "Hardness         0.00 1.00    1.00\n",
       "Solids           0.00 1.00    1.00\n",
       "Chloramines     -0.00 1.00    1.00\n",
       "Sulfate          0.00 1.00    1.00\n",
       "Conductivity    -0.00 1.00    1.00\n",
       "Organic_carbon  -0.00 1.00    1.00\n",
       "Trihalomethanes  0.00 1.00    1.00\n",
       "Turbidity       -0.00 1.00    1.00"
      ]
     },
     "execution_count": 27,
     "metadata": {},
     "output_type": "execute_result"
    }
   ],
   "source": [
    "#Call `db_summary_scaled_df`'s `mean()` method\n",
    "validate = df_summary_scaled_df.agg(['mean','std']).T\n",
    "validate['ddof_1'] = df_summary_scaled_df.std(ddof=0)\n",
    "validate"
   ]
  },
  {
   "cell_type": "markdown",
   "metadata": {},
   "source": [
    "- average is zero\n",
    "- all variables with the same standard deviation\n",
    "- STD(ddof) = 1 as expected in a scaling"
   ]
  },
  {
   "cell_type": "markdown",
   "metadata": {},
   "source": [
    "### Calculate the PCA transformation"
   ]
  },
  {
   "cell_type": "markdown",
   "metadata": {},
   "source": [
    "Fit the PCA transformation using the scaled data."
   ]
  },
  {
   "cell_type": "code",
   "execution_count": 28,
   "metadata": {
    "ExecuteTime": {
     "end_time": "2021-07-10T17:54:20.245309Z",
     "start_time": "2021-07-10T17:54:20.231346Z"
    }
   },
   "outputs": [],
   "source": [
    "df_pca = PCA().fit(df_summary_scale)"
   ]
  },
  {
   "cell_type": "markdown",
   "metadata": {},
   "source": [
    "Plot the cumulative variance ratio with number of components."
   ]
  },
  {
   "cell_type": "code",
   "execution_count": 29,
   "metadata": {
    "ExecuteTime": {
     "end_time": "2021-07-10T17:54:20.494643Z",
     "start_time": "2021-07-10T17:54:20.247304Z"
    }
   },
   "outputs": [
    {
     "data": {
      "image/png": "[encoded data removed]",
      "text/plain": [
       "<Figure size 720x432 with 1 Axes>"
      ]
     },
     "metadata": {
      "needs_background": "light"
     },
     "output_type": "display_data"
    }
   ],
   "source": [
    "#Call the `cumsum()` method on the 'explained_variance_ratio_' attribute of `db_pca` and\n",
    "#create a line plot to visualize the cumulative explained variance ratio with number of components\n",
    "#Set the xlabel to 'Component #', the ylabel to 'Cumulative ratio variance', and the\n",
    "#title to 'Cumulative variance ratio explained by PCA components for state/resort summary statistics'\n",
    "#Hint: remember the handy ';' at the end of the last plot call to suppress that untidy output\n",
    "plt.subplots(figsize=(10, 6))\n",
    "plt.plot(df_pca.explained_variance_ratio_.cumsum())\n",
    "plt.xlabel('Component #')\n",
    "plt.ylabel('Cumulative ratio variance')\n",
    "plt.title('Cumulative variance ratio explained by PCA components for ph summary statistics');"
   ]
  },
  {
   "cell_type": "markdown",
   "metadata": {},
   "source": [
    "- There are no relevant components to explain the variance of the data."
   ]
  },
  {
   "cell_type": "code",
   "execution_count": 30,
   "metadata": {
    "ExecuteTime": {
     "end_time": "2021-07-10T17:54:20.510599Z",
     "start_time": "2021-07-10T17:54:20.496637Z"
    }
   },
   "outputs": [],
   "source": [
    "#Call `db_pca`'s `transform()` method, passing in `db_summary_scale` as its argument\n",
    "df_pca_x = df_pca.transform(df_summary_scale)\n",
    "# df_pca_x.shape"
   ]
  },
  {
   "cell_type": "markdown",
   "metadata": {},
   "source": [
    "Plot the first two derived features (the first two principle components) and label each point."
   ]
  },
  {
   "cell_type": "code",
   "execution_count": 31,
   "metadata": {
    "ExecuteTime": {
     "end_time": "2021-07-10T17:54:20.526559Z",
     "start_time": "2021-07-10T17:54:20.512595Z"
    }
   },
   "outputs": [],
   "source": [
    "# x = df_pca_x[:, 0]\n",
    "# y = df_pca_x[:, 1]\n",
    "# df_index = df_summary_index\n",
    "# pc_var = 100 * df_pca.explained_variance_ratio_.cumsum()[1]\n",
    "# plt.subplots(figsize=(10,8))\n",
    "# plt.scatter(x=x, y=y)\n",
    "# plt.xlabel('First component')\n",
    "# plt.ylabel('Second component')\n",
    "# plt.title(f'Water potability summary PCA, {pc_var:.1f}% variance explained')\n",
    "# for s, x, y in zip(water, x, y):\n",
    "#     plt.annotate(s, (x, y))"
   ]
  },
  {
   "cell_type": "code",
   "execution_count": 32,
   "metadata": {
    "ExecuteTime": {
     "end_time": "2021-07-10T17:54:20.542514Z",
     "start_time": "2021-07-10T17:54:20.528552Z"
    }
   },
   "outputs": [],
   "source": [
    "#Create a dataframe containing the values of the first two PCA components\n",
    "#Remember the first component was given by db_pca_x[:, 0],\n",
    "#and the second by db_pca_x[:, 1]\n",
    "#Call these 'PC1' and 'PC2', respectively and set the dataframe index to `db_summary_index`\n",
    "pca_df = pd.DataFrame({'PC1': df_pca_x[:, 0], 'PC2': df_pca_x[:, 1]}, index=df_summary_index)\n",
    "# pca_df.head()"
   ]
  },
  {
   "cell_type": "markdown",
   "metadata": {},
   "source": [
    "Concatenating both parts on axis 1 and using the indexes."
   ]
  },
  {
   "cell_type": "code",
   "execution_count": 33,
   "metadata": {
    "ExecuteTime": {
     "end_time": "2021-07-10T17:54:20.558472Z",
     "start_time": "2021-07-10T17:54:20.544513Z"
    }
   },
   "outputs": [],
   "source": [
    "water_avg_potability = water.groupby('ph')['Potability'].mean()\n",
    "# water_avg_potability.sort_values(ascending=False).head()"
   ]
  },
  {
   "cell_type": "code",
   "execution_count": 34,
   "metadata": {
    "ExecuteTime": {
     "end_time": "2021-07-10T17:54:20.574429Z",
     "start_time": "2021-07-10T17:54:20.560467Z"
    }
   },
   "outputs": [
    {
     "data": {
      "text/html": [
       "<div>\n",
       "<style scoped>\n",
       "    .dataframe tbody tr th:only-of-type {\n",
       "        vertical-align: middle;\n",
       "    }\n",
       "\n",
       "    .dataframe tbody tr th {\n",
       "        vertical-align: top;\n",
       "    }\n",
       "\n",
       "    .dataframe thead th {\n",
       "        text-align: right;\n",
       "    }\n",
       "</style>\n",
       "<table border=\"1\" class=\"dataframe\">\n",
       "  <thead>\n",
       "    <tr style=\"text-align: right;\">\n",
       "      <th></th>\n",
       "      <th>PC1</th>\n",
       "      <th>PC2</th>\n",
       "      <th>Potability</th>\n",
       "    </tr>\n",
       "    <tr>\n",
       "      <th>ph</th>\n",
       "      <th></th>\n",
       "      <th></th>\n",
       "      <th></th>\n",
       "    </tr>\n",
       "  </thead>\n",
       "  <tbody>\n",
       "    <tr>\n",
       "      <th>0.00</th>\n",
       "      <td>2.69</td>\n",
       "      <td>-2.45</td>\n",
       "      <td>0</td>\n",
       "    </tr>\n",
       "    <tr>\n",
       "      <th>0.23</th>\n",
       "      <td>2.68</td>\n",
       "      <td>0.20</td>\n",
       "      <td>1</td>\n",
       "    </tr>\n",
       "    <tr>\n",
       "      <th>0.98</th>\n",
       "      <td>0.60</td>\n",
       "      <td>3.08</td>\n",
       "      <td>0</td>\n",
       "    </tr>\n",
       "    <tr>\n",
       "      <th>0.99</th>\n",
       "      <td>-0.51</td>\n",
       "      <td>-2.03</td>\n",
       "      <td>1</td>\n",
       "    </tr>\n",
       "    <tr>\n",
       "      <th>1.43</th>\n",
       "      <td>-0.08</td>\n",
       "      <td>-0.16</td>\n",
       "      <td>0</td>\n",
       "    </tr>\n",
       "  </tbody>\n",
       "</table>\n",
       "</div>"
      ],
      "text/plain": [
       "       PC1   PC2  Potability\n",
       "ph                          \n",
       "0.00  2.69 -2.45           0\n",
       "0.23  2.68  0.20           1\n",
       "0.98  0.60  3.08           0\n",
       "0.99 -0.51 -2.03           1\n",
       "1.43 -0.08 -0.16           0"
      ]
     },
     "execution_count": 34,
     "metadata": {},
     "output_type": "execute_result"
    }
   ],
   "source": [
    "#Use pd.concat to concatenate `pca_df` and `db_avg` along axis 1\n",
    "# remember, pd.concat will align on index\n",
    "pca_df = pd.concat([pca_df, water_avg_potability], axis=1)\n",
    "pca_df.head()"
   ]
  },
  {
   "cell_type": "code",
   "execution_count": 35,
   "metadata": {
    "ExecuteTime": {
     "end_time": "2021-07-10T17:54:20.590386Z",
     "start_time": "2021-07-10T17:54:20.576425Z"
    }
   },
   "outputs": [],
   "source": [
    "# pca_df.dtypes"
   ]
  },
  {
   "cell_type": "markdown",
   "metadata": {},
   "source": [
    "Checking for missing values"
   ]
  },
  {
   "cell_type": "code",
   "execution_count": 36,
   "metadata": {
    "ExecuteTime": {
     "end_time": "2021-07-10T17:54:20.605347Z",
     "start_time": "2021-07-10T17:54:20.592380Z"
    }
   },
   "outputs": [
    {
     "data": {
      "text/html": [
       "<div>\n",
       "<style scoped>\n",
       "    .dataframe tbody tr th:only-of-type {\n",
       "        vertical-align: middle;\n",
       "    }\n",
       "\n",
       "    .dataframe tbody tr th {\n",
       "        vertical-align: top;\n",
       "    }\n",
       "\n",
       "    .dataframe thead th {\n",
       "        text-align: right;\n",
       "    }\n",
       "</style>\n",
       "<table border=\"1\" class=\"dataframe\">\n",
       "  <thead>\n",
       "    <tr style=\"text-align: right;\">\n",
       "      <th></th>\n",
       "      <th>PC1</th>\n",
       "      <th>PC2</th>\n",
       "      <th>Potability</th>\n",
       "    </tr>\n",
       "    <tr>\n",
       "      <th>ph</th>\n",
       "      <th></th>\n",
       "      <th></th>\n",
       "      <th></th>\n",
       "    </tr>\n",
       "  </thead>\n",
       "  <tbody>\n",
       "  </tbody>\n",
       "</table>\n",
       "</div>"
      ],
      "text/plain": [
       "Empty DataFrame\n",
       "Columns: [PC1, PC2, Potability]\n",
       "Index: []"
      ]
     },
     "execution_count": 36,
     "metadata": {},
     "output_type": "execute_result"
    }
   ],
   "source": [
    "pca_df[pca_df.isnull().any(axis=1)]"
   ]
  },
  {
   "cell_type": "markdown",
   "metadata": {},
   "source": [
    "- No missing values"
   ]
  },
  {
   "cell_type": "code",
   "execution_count": 37,
   "metadata": {
    "ExecuteTime": {
     "end_time": "2021-07-10T17:54:21.032765Z",
     "start_time": "2021-07-10T17:54:20.607340Z"
    }
   },
   "outputs": [
    {
     "data": {
      "image/png": "[encoded data removed]",
      "text/plain": [
       "<Figure size 864x720 with 1 Axes>"
      ]
     },
     "metadata": {
      "needs_background": "light"
     },
     "output_type": "display_data"
    }
   ],
   "source": [
    "# Create a seaborn scatterplot by calling `sns.scatterplot`\n",
    "# Specify the dataframe pca_df as the source of the data,\n",
    "# specify 'PC1' for x and 'PC2' for y,\n",
    "# specify 'target' for the pointsize (scatterplot's `size` argument),\n",
    "# specify 'catergories' foar `hue`\n",
    "# specify sorter for `hue_order`\n",
    "x = pca_df.PC1\n",
    "y = pca_df.PC2\n",
    "ph = pca_df.index\n",
    "plt.subplots(figsize=(12, 10))\n",
    "# Note the argument below to make sure we get the colours in the ascending\n",
    "# order we intuitively expect!\n",
    "sns.scatterplot(x='PC1', y='PC2', hue='Potability', data=pca_df, hue_order=pca_df.Potability.sort_values(ascending=True).unique())\n",
    "# sns.scatterplot(x='PC1', y='PC2', size='Potability', hue='Quartile', \n",
    "#                 hue_order=pca_df.Quartile.cat.categories, data=pca_df)\n",
    "#if the amount of data allows, annotate with the labels\n",
    "# for s, x, y in zip(ph, x, y):\n",
    "#     plt.annotate(s, (x, y))\n",
    "pc_var = 100 * df_pca.explained_variance_ratio_.cumsum()[1]\n",
    "plt.title(f'Ski states summary PCA, {pc_var:.1f}% variance explained');"
   ]
  },
  {
   "cell_type": "markdown",
   "metadata": {},
   "source": [
    "- No clustering by PCA and potability."
   ]
  },
  {
   "cell_type": "code",
   "execution_count": 38,
   "metadata": {
    "ExecuteTime": {
     "end_time": "2021-07-10T17:54:21.048723Z",
     "start_time": "2021-07-10T17:54:21.034760Z"
    }
   },
   "outputs": [
    {
     "data": {
      "text/html": [
       "<div>\n",
       "<style scoped>\n",
       "    .dataframe tbody tr th:only-of-type {\n",
       "        vertical-align: middle;\n",
       "    }\n",
       "\n",
       "    .dataframe tbody tr th {\n",
       "        vertical-align: top;\n",
       "    }\n",
       "\n",
       "    .dataframe thead th {\n",
       "        text-align: right;\n",
       "    }\n",
       "</style>\n",
       "<table border=\"1\" class=\"dataframe\">\n",
       "  <thead>\n",
       "    <tr style=\"text-align: right;\">\n",
       "      <th></th>\n",
       "      <th>Hardness</th>\n",
       "      <th>Solids</th>\n",
       "      <th>Chloramines</th>\n",
       "      <th>Sulfate</th>\n",
       "      <th>Conductivity</th>\n",
       "      <th>Organic_carbon</th>\n",
       "      <th>Trihalomethanes</th>\n",
       "      <th>Turbidity</th>\n",
       "    </tr>\n",
       "  </thead>\n",
       "  <tbody>\n",
       "    <tr>\n",
       "      <th>0</th>\n",
       "      <td>-0.18</td>\n",
       "      <td>0.69</td>\n",
       "      <td>-0.53</td>\n",
       "      <td>-0.15</td>\n",
       "      <td>0.21</td>\n",
       "      <td>-0.04</td>\n",
       "      <td>-0.27</td>\n",
       "      <td>0.28</td>\n",
       "    </tr>\n",
       "    <tr>\n",
       "      <th>1</th>\n",
       "      <td>0.46</td>\n",
       "      <td>-0.06</td>\n",
       "      <td>-0.39</td>\n",
       "      <td>0.14</td>\n",
       "      <td>-0.12</td>\n",
       "      <td>0.61</td>\n",
       "      <td>-0.31</td>\n",
       "      <td>-0.37</td>\n",
       "    </tr>\n",
       "    <tr>\n",
       "      <th>2</th>\n",
       "      <td>0.51</td>\n",
       "      <td>-0.06</td>\n",
       "      <td>-0.11</td>\n",
       "      <td>-0.72</td>\n",
       "      <td>0.30</td>\n",
       "      <td>-0.13</td>\n",
       "      <td>0.29</td>\n",
       "      <td>-0.06</td>\n",
       "    </tr>\n",
       "    <tr>\n",
       "      <th>3</th>\n",
       "      <td>0.40</td>\n",
       "      <td>-0.05</td>\n",
       "      <td>0.05</td>\n",
       "      <td>-0.12</td>\n",
       "      <td>-0.58</td>\n",
       "      <td>-0.36</td>\n",
       "      <td>-0.45</td>\n",
       "      <td>0.38</td>\n",
       "    </tr>\n",
       "    <tr>\n",
       "      <th>4</th>\n",
       "      <td>-0.15</td>\n",
       "      <td>0.33</td>\n",
       "      <td>-0.14</td>\n",
       "      <td>-0.14</td>\n",
       "      <td>-0.56</td>\n",
       "      <td>-0.26</td>\n",
       "      <td>0.26</td>\n",
       "      <td>-0.62</td>\n",
       "    </tr>\n",
       "    <tr>\n",
       "      <th>5</th>\n",
       "      <td>-0.20</td>\n",
       "      <td>0.14</td>\n",
       "      <td>0.54</td>\n",
       "      <td>-0.40</td>\n",
       "      <td>0.14</td>\n",
       "      <td>0.12</td>\n",
       "      <td>-0.58</td>\n",
       "      <td>-0.34</td>\n",
       "    </tr>\n",
       "    <tr>\n",
       "      <th>6</th>\n",
       "      <td>0.06</td>\n",
       "      <td>-0.26</td>\n",
       "      <td>-0.27</td>\n",
       "      <td>0.27</td>\n",
       "      <td>0.38</td>\n",
       "      <td>-0.62</td>\n",
       "      <td>-0.33</td>\n",
       "      <td>-0.38</td>\n",
       "    </tr>\n",
       "    <tr>\n",
       "      <th>7</th>\n",
       "      <td>0.52</td>\n",
       "      <td>0.57</td>\n",
       "      <td>0.42</td>\n",
       "      <td>0.41</td>\n",
       "      <td>0.18</td>\n",
       "      <td>-0.10</td>\n",
       "      <td>0.13</td>\n",
       "      <td>-0.07</td>\n",
       "    </tr>\n",
       "  </tbody>\n",
       "</table>\n",
       "</div>"
      ],
      "text/plain": [
       "   Hardness  Solids  Chloramines  Sulfate  Conductivity  Organic_carbon  \\\n",
       "0     -0.18    0.69        -0.53    -0.15          0.21           -0.04   \n",
       "1      0.46   -0.06        -0.39     0.14         -0.12            0.61   \n",
       "2      0.51   -0.06        -0.11    -0.72          0.30           -0.13   \n",
       "3      0.40   -0.05         0.05    -0.12         -0.58           -0.36   \n",
       "4     -0.15    0.33        -0.14    -0.14         -0.56           -0.26   \n",
       "5     -0.20    0.14         0.54    -0.40          0.14            0.12   \n",
       "6      0.06   -0.26        -0.27     0.27          0.38           -0.62   \n",
       "7      0.52    0.57         0.42     0.41          0.18           -0.10   \n",
       "\n",
       "   Trihalomethanes  Turbidity  \n",
       "0            -0.27       0.28  \n",
       "1            -0.31      -0.37  \n",
       "2             0.29      -0.06  \n",
       "3            -0.45       0.38  \n",
       "4             0.26      -0.62  \n",
       "5            -0.58      -0.34  \n",
       "6            -0.33      -0.38  \n",
       "7             0.13      -0.07  "
      ]
     },
     "execution_count": 38,
     "metadata": {},
     "output_type": "execute_result"
    }
   ],
   "source": [
    "pd.DataFrame(df_pca.components_, columns=df_summary_columns)"
   ]
  },
  {
   "cell_type": "markdown",
   "metadata": {},
   "source": [
    "- No remarkable values could be found in the components of the PCA."
   ]
  },
  {
   "cell_type": "markdown",
   "metadata": {},
   "source": [
    "## Numeric Data"
   ]
  },
  {
   "cell_type": "markdown",
   "metadata": {},
   "source": [
    "### Feature engineering"
   ]
  },
  {
   "cell_type": "code",
   "execution_count": 39,
   "metadata": {
    "ExecuteTime": {
     "end_time": "2021-07-10T17:54:21.064681Z",
     "start_time": "2021-07-10T17:54:21.050722Z"
    }
   },
   "outputs": [
    {
     "data": {
      "text/html": [
       "<div>\n",
       "<style scoped>\n",
       "    .dataframe tbody tr th:only-of-type {\n",
       "        vertical-align: middle;\n",
       "    }\n",
       "\n",
       "    .dataframe tbody tr th {\n",
       "        vertical-align: top;\n",
       "    }\n",
       "\n",
       "    .dataframe thead th {\n",
       "        text-align: right;\n",
       "    }\n",
       "</style>\n",
       "<table border=\"1\" class=\"dataframe\">\n",
       "  <thead>\n",
       "    <tr style=\"text-align: right;\">\n",
       "      <th></th>\n",
       "      <th>Hardness</th>\n",
       "      <th>Solids</th>\n",
       "      <th>Chloramines</th>\n",
       "      <th>Sulfate</th>\n",
       "      <th>Conductivity</th>\n",
       "      <th>Organic_carbon</th>\n",
       "      <th>Trihalomethanes</th>\n",
       "      <th>Turbidity</th>\n",
       "    </tr>\n",
       "    <tr>\n",
       "      <th>ph</th>\n",
       "      <th></th>\n",
       "      <th></th>\n",
       "      <th></th>\n",
       "      <th></th>\n",
       "      <th></th>\n",
       "      <th></th>\n",
       "      <th></th>\n",
       "      <th></th>\n",
       "    </tr>\n",
       "  </thead>\n",
       "  <tbody>\n",
       "    <tr>\n",
       "      <th>0.00</th>\n",
       "      <td>214.85</td>\n",
       "      <td>49456.59</td>\n",
       "      <td>7.90</td>\n",
       "      <td>0.00</td>\n",
       "      <td>583.45</td>\n",
       "      <td>7.70</td>\n",
       "      <td>77.71</td>\n",
       "      <td>4.93</td>\n",
       "    </tr>\n",
       "    <tr>\n",
       "      <th>0.23</th>\n",
       "      <td>152.53</td>\n",
       "      <td>39028.60</td>\n",
       "      <td>3.46</td>\n",
       "      <td>283.69</td>\n",
       "      <td>443.03</td>\n",
       "      <td>13.20</td>\n",
       "      <td>62.32</td>\n",
       "      <td>3.55</td>\n",
       "    </tr>\n",
       "    <tr>\n",
       "      <th>0.98</th>\n",
       "      <td>221.20</td>\n",
       "      <td>31145.11</td>\n",
       "      <td>7.62</td>\n",
       "      <td>333.68</td>\n",
       "      <td>439.11</td>\n",
       "      <td>21.15</td>\n",
       "      <td>0.00</td>\n",
       "      <td>2.53</td>\n",
       "    </tr>\n",
       "    <tr>\n",
       "      <th>0.99</th>\n",
       "      <td>133.22</td>\n",
       "      <td>16922.85</td>\n",
       "      <td>9.29</td>\n",
       "      <td>444.38</td>\n",
       "      <td>322.29</td>\n",
       "      <td>10.43</td>\n",
       "      <td>43.58</td>\n",
       "      <td>5.16</td>\n",
       "    </tr>\n",
       "    <tr>\n",
       "      <th>1.43</th>\n",
       "      <td>228.13</td>\n",
       "      <td>12937.25</td>\n",
       "      <td>6.21</td>\n",
       "      <td>319.73</td>\n",
       "      <td>495.38</td>\n",
       "      <td>12.03</td>\n",
       "      <td>61.14</td>\n",
       "      <td>4.95</td>\n",
       "    </tr>\n",
       "  </tbody>\n",
       "</table>\n",
       "</div>"
      ],
      "text/plain": [
       "      Hardness   Solids  Chloramines  Sulfate  Conductivity  Organic_carbon  \\\n",
       "ph                                                                            \n",
       "0.00    214.85 49456.59         7.90     0.00        583.45            7.70   \n",
       "0.23    152.53 39028.60         3.46   283.69        443.03           13.20   \n",
       "0.98    221.20 31145.11         7.62   333.68        439.11           21.15   \n",
       "0.99    133.22 16922.85         9.29   444.38        322.29           10.43   \n",
       "1.43    228.13 12937.25         6.21   319.73        495.38           12.03   \n",
       "\n",
       "      Trihalomethanes  Turbidity  \n",
       "ph                                \n",
       "0.00            77.71       4.93  \n",
       "0.23            62.32       3.55  \n",
       "0.98             0.00       2.53  \n",
       "0.99            43.58       5.16  \n",
       "1.43            61.14       4.95  "
      ]
     },
     "execution_count": 39,
     "metadata": {},
     "output_type": "execute_result"
    }
   ],
   "source": [
    "water_summary.head()"
   ]
  },
  {
   "cell_type": "markdown",
   "metadata": {},
   "source": [
    "#### Parameter correlation heatmap"
   ]
  },
  {
   "cell_type": "markdown",
   "metadata": {},
   "source": [
    "A great way to gain a high level view of relationships amongst the features."
   ]
  },
  {
   "cell_type": "code",
   "execution_count": 40,
   "metadata": {
    "ExecuteTime": {
     "end_time": "2021-07-10T17:54:22.494634Z",
     "start_time": "2021-07-10T17:54:21.066676Z"
    }
   },
   "outputs": [
    {
     "data": {
      "image/png": "[encoded data removed]",
      "text/plain": [
       "<Figure size 1080x720 with 2 Axes>"
      ]
     },
     "metadata": {
      "needs_background": "light"
     },
     "output_type": "display_data"
    }
   ],
   "source": [
    "#Show a seaborn heatmap of correlations in data\n",
    "#Hint: call pandas' `corr()` method on `data` and pass that into `sns.heatmap`\n",
    "plt.subplots(figsize=(15,10))\n",
    "sns.heatmap(water.corr(), annot = True);"
   ]
  },
  {
   "cell_type": "markdown",
   "metadata": {},
   "source": [
    "- Intuitevily we could correlate `Turbidity` with `Solids` and `Organic_carbon`, but they do not have a higher correlation in the data.\n",
    "- No strog correlations were found in the data set."
   ]
  },
  {
   "cell_type": "markdown",
   "metadata": {},
   "source": [
    "#### Scatterplots of numeric features against Potability"
   ]
  },
  {
   "cell_type": "code",
   "execution_count": 41,
   "metadata": {
    "ExecuteTime": {
     "end_time": "2021-07-10T17:54:22.510556Z",
     "start_time": "2021-07-10T17:54:22.496599Z"
    }
   },
   "outputs": [],
   "source": [
    "# define useful function to create scatterplots of ticket prices against desired columns\n",
    "def scatterplots(columns, ncol=None, figsize=(15, 8)):\n",
    "    if ncol is None:\n",
    "        ncol = len(columns)\n",
    "    nrow = int(np.ceil(len(columns) / ncol))\n",
    "    fig, axes = plt.subplots(nrow, ncol, figsize=figsize, squeeze=False)\n",
    "    fig.subplots_adjust(wspace=0.5, hspace=0.6)\n",
    "    for i, col in enumerate(columns):\n",
    "        ax = axes.flatten()[i]\n",
    "        ax.scatter(x = col, y = 'Potability', data=water, alpha=0.5)\n",
    "        ax.set(xlabel=col, ylabel='Potability')\n",
    "    nsubplots = nrow * ncol    \n",
    "    for empty in range(i+1, nsubplots):\n",
    "        axes.flatten()[empty].set_visible(False)"
   ]
  },
  {
   "cell_type": "code",
   "execution_count": 42,
   "metadata": {
    "ExecuteTime": {
     "end_time": "2021-07-10T17:54:22.526540Z",
     "start_time": "2021-07-10T17:54:22.514546Z"
    }
   },
   "outputs": [],
   "source": [
    "#Use a list comprehension to build a list of features from the columns of `ski_data` that\n",
    "#are _not_ any of 'Name', 'Region', 'state', or 'AdultWeekend'\n",
    "# features = [f for f in water.columns if f not in ['Name', 'Region', 'state', 'AdultWeekend']]\n",
    "features = [f for f in water.columns if f not in ['Potability']]"
   ]
  },
  {
   "cell_type": "code",
   "execution_count": 43,
   "metadata": {
    "ExecuteTime": {
     "end_time": "2021-07-10T17:54:23.569986Z",
     "start_time": "2021-07-10T17:54:22.528508Z"
    }
   },
   "outputs": [
    {
     "data": {
      "image/png": "[encoded data removed]",
      "text/plain": [
       "<Figure size 1080x1080 with 12 Axes>"
      ]
     },
     "metadata": {
      "needs_background": "light"
     },
     "output_type": "display_data"
    }
   ],
   "source": [
    "scatterplots(features, ncol=4, figsize=(15, 15))"
   ]
  },
  {
   "cell_type": "markdown",
   "metadata": {},
   "source": [
    "- The scatterplots don't show any significant split in the data."
   ]
  },
  {
   "cell_type": "markdown",
   "metadata": {},
   "source": [
    "## Summary"
   ]
  },
  {
   "cell_type": "markdown",
   "metadata": {},
   "source": [
    "So far, we couldn't find classifiers to define the water as potable.\n",
    "\n",
    "- Numerical: 10\n",
    "\n",
    "- Categorical: 0\n",
    "\n",
    "Data seems to be incorrect both for the classification and the distribution for each category. We will carry on the analysis once we don't have more details about the data source. We cannot be sure if the data is wrong or if this a really poor  situation for the consumers of this water."
   ]
  },
  {
   "cell_type": "markdown",
   "metadata": {},
   "source": [
    "# Pre-Processing and Training Data"
   ]
  },
  {
   "cell_type": "markdown",
   "metadata": {},
   "source": [
    "## Introduction"
   ]
  },
  {
   "cell_type": "markdown",
   "metadata": {},
   "source": [
    "During the data assessment we did not remove any column or adjusted any entries."
   ]
  },
  {
   "cell_type": "markdown",
   "metadata": {},
   "source": [
    "## Train/Test Split"
   ]
  },
  {
   "cell_type": "markdown",
   "metadata": {},
   "source": [
    "We will adopt a 70/30 train/test split for the modelling."
   ]
  },
  {
   "cell_type": "code",
   "execution_count": 44,
   "metadata": {
    "ExecuteTime": {
     "end_time": "2021-07-10T17:54:23.584947Z",
     "start_time": "2021-07-10T17:54:23.571981Z"
    }
   },
   "outputs": [],
   "source": [
    "# water.shape"
   ]
  },
  {
   "cell_type": "code",
   "execution_count": 45,
   "metadata": {
    "ExecuteTime": {
     "end_time": "2021-07-10T17:54:23.599939Z",
     "start_time": "2021-07-10T17:54:23.587940Z"
    }
   },
   "outputs": [],
   "source": [
    "# test drop missing\n",
    "# water = water.dropna(how='any')"
   ]
  },
  {
   "cell_type": "code",
   "execution_count": 46,
   "metadata": {
    "ExecuteTime": {
     "end_time": "2021-07-10T17:54:23.615896Z",
     "start_time": "2021-07-10T17:54:23.602899Z"
    }
   },
   "outputs": [],
   "source": [
    "X_train, X_test, y_train, y_test = train_test_split(water.drop(columns='Potability'), \n",
    "                                                    water.Potability, test_size=0.3, \n",
    "                                                    random_state=47)"
   ]
  },
  {
   "cell_type": "code",
   "execution_count": 47,
   "metadata": {
    "ExecuteTime": {
     "end_time": "2021-07-10T17:54:23.630825Z",
     "start_time": "2021-07-10T17:54:23.617859Z"
    }
   },
   "outputs": [
    {
     "name": "stdout",
     "output_type": "stream",
     "text": [
      "Data shape: (3276, 10)\n",
      "Train set shape: (2293, 9)\n",
      "Test set shape: (983, 9)\n",
      "Target train set shape: (2293,)\n",
      "Target test set shape: (983,)\n",
      "\n",
      "Data train types:\n",
      "ph                 float64\n",
      "Hardness           float64\n",
      "Solids             float64\n",
      "Chloramines        float64\n",
      "Sulfate            float64\n",
      "Conductivity       float64\n",
      "Organic_carbon     float64\n",
      "Trihalomethanes    float64\n",
      "Turbidity          float64\n",
      "dtype: object\n",
      "\n",
      "Data test types:\n",
      "ph                 float64\n",
      "Hardness           float64\n",
      "Solids             float64\n",
      "Chloramines        float64\n",
      "Sulfate            float64\n",
      "Conductivity       float64\n",
      "Organic_carbon     float64\n",
      "Trihalomethanes    float64\n",
      "Turbidity          float64\n",
      "dtype: object\n"
     ]
    }
   ],
   "source": [
    "print('Data shape:',water.shape), \n",
    "print('Train set shape:',X_train.shape),\n",
    "print('Test set shape:',X_test.shape),\n",
    "print('Target train set shape:',y_train.shape),\n",
    "print('Target test set shape:',y_test.shape),\n",
    "\n",
    "#Check the `dtypes` attribute of `X_train` to verify all features are numeric\n",
    "print()\n",
    "print('Data train types:'),\n",
    "print(X_train.dtypes)\n",
    "\n",
    "#Repeat this check for the test split in `X_test`\n",
    "print()\n",
    "print('Data test types:'),\n",
    "print(X_test.dtypes)"
   ]
  },
  {
   "cell_type": "markdown",
   "metadata": {},
   "source": [
    "- Only numeric parameters in the training and test data sets"
   ]
  },
  {
   "cell_type": "markdown",
   "metadata": {},
   "source": [
    "## Imputing missing parameter (predictor) values"
   ]
  },
  {
   "cell_type": "markdown",
   "metadata": {},
   "source": [
    "The meand and median of the parameters are really close what demonstrate distributions that are no skewed. We will imput the mean for the missing values of the parameters. If the distributions were skewed we could considerate to test the median too."
   ]
  },
  {
   "cell_type": "markdown",
   "metadata": {},
   "source": [
    "### Impute missing values with mean"
   ]
  },
  {
   "cell_type": "code",
   "execution_count": 48,
   "metadata": {
    "ExecuteTime": {
     "end_time": "2021-07-10T17:54:23.646781Z",
     "start_time": "2021-07-10T17:54:23.632820Z"
    }
   },
   "outputs": [],
   "source": [
    "# These are the values we'll use to fill in any missing values\n",
    "X_defaults_mean = X_train.mean()\n",
    "# X_defaults_mean"
   ]
  },
  {
   "cell_type": "code",
   "execution_count": 49,
   "metadata": {
    "ExecuteTime": {
     "end_time": "2021-07-10T17:54:23.662738Z",
     "start_time": "2021-07-10T17:54:23.648803Z"
    }
   },
   "outputs": [],
   "source": [
    "#Code task 9#\n",
    "#Call `X_train` and `X_test`'s `fillna()` method, passing `X_defaults_median` as the values to use\n",
    "#Assign the results to `X_tr` and `X_te`, respectively\n",
    "X_tr = X_train.fillna(X_defaults_mean)\n",
    "X_te = X_test.fillna(X_defaults_mean)"
   ]
  },
  {
   "cell_type": "markdown",
   "metadata": {},
   "source": [
    "##### Scale the data"
   ]
  },
  {
   "cell_type": "markdown",
   "metadata": {},
   "source": [
    "Our parameters are in many different units, varying by orders of magnitude. Scalling will put them all on a consistent scale. The [StandardScaler](https://scikit-learn.org/stable/modules/generated/sklearn.preprocessing.StandardScaler.html) scales each feature to zero mean and unit variance."
   ]
  },
  {
   "cell_type": "code",
   "execution_count": 50,
   "metadata": {
    "ExecuteTime": {
     "end_time": "2021-07-10T17:54:23.678720Z",
     "start_time": "2021-07-10T17:54:23.664733Z"
    }
   },
   "outputs": [],
   "source": [
    "#Code task 10#\n",
    "#Call the StandardScaler`s fit method on `X_tr` to fit the scaler\n",
    "#then use it's `transform()` method to apply the scaling to both the train and test split\n",
    "#data (`X_tr` and `X_te`), naming the results `X_tr_scaled` and `X_te_scaled`, respectively\n",
    "scaler = StandardScaler()\n",
    "scaler.fit(X_tr)\n",
    "X_tr_scaled = scaler.transform(X_tr)\n",
    "X_te_scaled = scaler.transform(X_te)"
   ]
  },
  {
   "cell_type": "markdown",
   "metadata": {},
   "source": [
    "## Classification models"
   ]
  },
  {
   "cell_type": "code",
   "execution_count": 51,
   "metadata": {
    "ExecuteTime": {
     "end_time": "2021-07-10T17:54:23.694654Z",
     "start_time": "2021-07-10T17:54:23.679693Z"
    },
    "scrolled": true
   },
   "outputs": [],
   "source": [
    "# https://www.kaggle.com/sohommajumder21/7-models-with-params-tuning-beginner-friendly/notebook\n",
    "#Hyperparameter tuning ;)\n",
    "\n",
    "lr = LogisticRegression(random_state=42)\n",
    "dt = DecisionTreeClassifier(criterion='entropy', max_depth=42, min_samples_leaf=1, random_state=42)\n",
    "knn = KNeighborsClassifier(n_neighbors=1)\n",
    "rf = RandomForestClassifier(n_estimators=100, min_samples_leaf=2, random_state=42)\n",
    "ada = AdaBoostClassifier(n_estimators= 600, learning_rate= 1 )\n",
    "xgb = XGBClassifier(n_estimators= 250, learning_rate= 0.8)\n",
    "bagging = BaggingClassifier(DecisionTreeClassifier(criterion='entropy', max_depth=46, min_samples_leaf=2, random_state=42),\n",
    "                           n_estimators = 100, random_state = 42)\n",
    "\n",
    "#parameters of knn\n",
    "para_knn = {'n_neighbors':np.arange(1, 50)}\n",
    "grid_knn = GridSearchCV(knn, param_grid=para_knn, cv=5) #search knn for 5 fold cross validation\n",
    "\n",
    "#parameters for decision tree\n",
    "para_dt = {'criterion':['gini','entropy'],'max_depth':np.arange(1, 50), 'min_samples_leaf':[1,2,4,7,10,20,30,40,70,100]}\n",
    "grid_dt = GridSearchCV(dt, param_grid=para_dt, cv=5) #grid search decision tree for 5 fold cv\n",
    "#\"gini\" for the Gini impurity and “entropy” for the information gain.\n",
    "#min_samples_leaf: The minimum number of samples required to be at a leaf node, have the effect of smoothing the model\n",
    "\n",
    "#parameters for Random Forest\n",
    "#n_estimators: The number of trees in the forest.\n",
    "params_rf = {'n_estimators':[100,200,350, 500], 'min_samples_leaf':[2, 10, 30]}\n",
    "grid_rf = GridSearchCV(rf, param_grid=params_rf, cv=5)\n",
    "\n",
    "#parameters fpr AdaBoost\n",
    "params_ada = {'n_estimators': [50,100,250,400,500,600], 'learning_rate': [0.2,0.4,0.6,0.8,1]}\n",
    "grid_ada = GridSearchCV(ada, param_grid=params_ada, cv=5)\n",
    "\n",
    "#parameters for XGBoost\n",
    "params_xgb = {'n_estimators': [50,100,250,400,600,800,1000], 'learning_rate': [0.2,0.4,0.6,0.8,1]} #,'use_label_encoder': False}\n",
    "xgb = RandomizedSearchCV(xgb, param_distributions=params_xgb, cv=5)"
   ]
  },
  {
   "cell_type": "code",
   "execution_count": 52,
   "metadata": {
    "ExecuteTime": {
     "end_time": "2021-07-10T17:54:23.710635Z",
     "start_time": "2021-07-10T17:54:23.696676Z"
    }
   },
   "outputs": [],
   "source": [
    "classifiers = [('Logistic Regression', lr),\n",
    "               ('K Nearest Neighbours', knn),\n",
    "               ('Decision Tree', dt),\n",
    "               ('Random Forest', rf),\n",
    "               ('AdaBoost', ada),\n",
    "               ('Bagging Classifier', bagging)]\n",
    "# ,\n",
    "#                ('XGBoost', xgb)]"
   ]
  },
  {
   "cell_type": "code",
   "execution_count": 53,
   "metadata": {
    "ExecuteTime": {
     "end_time": "2021-07-10T17:54:29.731137Z",
     "start_time": "2021-07-10T17:54:23.712606Z"
    }
   },
   "outputs": [],
   "source": [
    "d = []\n",
    "for classifier_name, classifier in classifiers:\n",
    "    t_start = time.time()\n",
    "    # Fit classifier to the training set\n",
    "    classifier.fit(X_tr, y_train)\n",
    "    t_end = time.time()\n",
    "\n",
    "    # Predict y_pred\n",
    "    y_pred = classifier.predict(X_te_scaled)\n",
    "    accuracy = accuracy_score(y_test,y_pred)\n",
    "    \n",
    "    # Evaluate clf's accuracy on the test set\n",
    "#     print('{:s} : {:.2f}'.format(classifier_name, accuracy))\n",
    "    \n",
    "    \n",
    "    d.append({'classifier': classifier_name, 'start': t_start, 'end': t_end, 'accuracy': accuracy})\n",
    "profiling = pd.DataFrame(d)\n",
    "profiling['run_time'] = profiling['end'] - profiling['start']\n"
   ]
  },
  {
   "cell_type": "code",
   "execution_count": 54,
   "metadata": {
    "ExecuteTime": {
     "end_time": "2021-07-10T17:54:29.746100Z",
     "start_time": "2021-07-10T17:54:29.733135Z"
    }
   },
   "outputs": [
    {
     "data": {
      "text/html": [
       "<div>\n",
       "<style scoped>\n",
       "    .dataframe tbody tr th:only-of-type {\n",
       "        vertical-align: middle;\n",
       "    }\n",
       "\n",
       "    .dataframe tbody tr th {\n",
       "        vertical-align: top;\n",
       "    }\n",
       "\n",
       "    .dataframe thead th {\n",
       "        text-align: right;\n",
       "    }\n",
       "</style>\n",
       "<table border=\"1\" class=\"dataframe\">\n",
       "  <thead>\n",
       "    <tr style=\"text-align: right;\">\n",
       "      <th></th>\n",
       "      <th>classifier</th>\n",
       "      <th>start</th>\n",
       "      <th>end</th>\n",
       "      <th>accuracy</th>\n",
       "      <th>run_time</th>\n",
       "    </tr>\n",
       "  </thead>\n",
       "  <tbody>\n",
       "    <tr>\n",
       "      <th>0</th>\n",
       "      <td>Logistic Regression</td>\n",
       "      <td>1625939663.71</td>\n",
       "      <td>1625939663.74</td>\n",
       "      <td>0.50</td>\n",
       "      <td>0.02</td>\n",
       "    </tr>\n",
       "    <tr>\n",
       "      <th>1</th>\n",
       "      <td>K Nearest Neighbours</td>\n",
       "      <td>1625939663.74</td>\n",
       "      <td>1625939663.75</td>\n",
       "      <td>0.36</td>\n",
       "      <td>0.01</td>\n",
       "    </tr>\n",
       "    <tr>\n",
       "      <th>2</th>\n",
       "      <td>Decision Tree</td>\n",
       "      <td>1625939663.80</td>\n",
       "      <td>1625939663.90</td>\n",
       "      <td>0.64</td>\n",
       "      <td>0.09</td>\n",
       "    </tr>\n",
       "    <tr>\n",
       "      <th>3</th>\n",
       "      <td>Random Forest</td>\n",
       "      <td>1625939663.90</td>\n",
       "      <td>1625939664.54</td>\n",
       "      <td>0.36</td>\n",
       "      <td>0.64</td>\n",
       "    </tr>\n",
       "    <tr>\n",
       "      <th>4</th>\n",
       "      <td>AdaBoost</td>\n",
       "      <td>1625939664.55</td>\n",
       "      <td>1625939666.74</td>\n",
       "      <td>0.39</td>\n",
       "      <td>2.19</td>\n",
       "    </tr>\n",
       "    <tr>\n",
       "      <th>5</th>\n",
       "      <td>Bagging Classifier</td>\n",
       "      <td>1625939666.88</td>\n",
       "      <td>1625939669.70</td>\n",
       "      <td>0.36</td>\n",
       "      <td>2.81</td>\n",
       "    </tr>\n",
       "  </tbody>\n",
       "</table>\n",
       "</div>"
      ],
      "text/plain": [
       "             classifier         start           end  accuracy  run_time\n",
       "0   Logistic Regression 1625939663.71 1625939663.74      0.50      0.02\n",
       "1  K Nearest Neighbours 1625939663.74 1625939663.75      0.36      0.01\n",
       "2         Decision Tree 1625939663.80 1625939663.90      0.64      0.09\n",
       "3         Random Forest 1625939663.90 1625939664.54      0.36      0.64\n",
       "4              AdaBoost 1625939664.55 1625939666.74      0.39      2.19\n",
       "5    Bagging Classifier 1625939666.88 1625939669.70      0.36      2.81"
      ]
     },
     "execution_count": 54,
     "metadata": {},
     "output_type": "execute_result"
    }
   ],
   "source": [
    "profiling"
   ]
  },
  {
   "cell_type": "code",
   "execution_count": 55,
   "metadata": {
    "ExecuteTime": {
     "end_time": "2021-07-10T17:54:30.469462Z",
     "start_time": "2021-07-10T17:54:29.748111Z"
    }
   },
   "outputs": [
    {
     "ename": "AttributeError",
     "evalue": "'KNeighborsClassifier' object has no attribute 'best_params_'",
     "output_type": "error",
     "traceback": [
      "\u001b[1;31m---------------------------------------------------------------------------\u001b[0m",
      "\u001b[1;31mAttributeError\u001b[0m                            Traceback (most recent call last)",
      "\u001b[1;32m<ipython-input-55-83909d4667b4>\u001b[0m in \u001b[0;36m<module>\u001b[1;34m\u001b[0m\n\u001b[1;32m----> 1\u001b[1;33m \u001b[0mprint\u001b[0m\u001b[1;33m(\u001b[0m\u001b[1;34m\"Best parameters for KNN:\"\u001b[0m\u001b[1;33m,\u001b[0m \u001b[0mknn\u001b[0m\u001b[1;33m.\u001b[0m\u001b[0mbest_params_\u001b[0m\u001b[1;33m)\u001b[0m\u001b[1;33m\u001b[0m\u001b[1;33m\u001b[0m\u001b[0m\n\u001b[0m\u001b[0;32m      2\u001b[0m \u001b[0mprint\u001b[0m\u001b[1;33m(\u001b[0m\u001b[1;34m\"Best parameters for Decision Tree:\"\u001b[0m\u001b[1;33m,\u001b[0m \u001b[0mdt\u001b[0m\u001b[1;33m.\u001b[0m\u001b[0mbest_params_\u001b[0m\u001b[1;33m)\u001b[0m\u001b[1;33m\u001b[0m\u001b[1;33m\u001b[0m\u001b[0m\n\u001b[0;32m      3\u001b[0m \u001b[0mprint\u001b[0m\u001b[1;33m(\u001b[0m\u001b[1;34m\"Best parameters for Random Forest:\"\u001b[0m\u001b[1;33m,\u001b[0m \u001b[0mrf\u001b[0m\u001b[1;33m.\u001b[0m\u001b[0mbest_params_\u001b[0m\u001b[1;33m)\u001b[0m\u001b[1;33m\u001b[0m\u001b[1;33m\u001b[0m\u001b[0m\n\u001b[0;32m      4\u001b[0m \u001b[0mprint\u001b[0m\u001b[1;33m(\u001b[0m\u001b[1;34m\"Best parameters for AdaBoost:\"\u001b[0m\u001b[1;33m,\u001b[0m \u001b[0mada\u001b[0m\u001b[1;33m.\u001b[0m\u001b[0mbest_params_\u001b[0m\u001b[1;33m)\u001b[0m\u001b[1;33m\u001b[0m\u001b[1;33m\u001b[0m\u001b[0m\n\u001b[0;32m      5\u001b[0m \u001b[0mprint\u001b[0m\u001b[1;33m(\u001b[0m\u001b[1;34m\"Best parameters for XGBoost:\"\u001b[0m\u001b[1;33m,\u001b[0m \u001b[0mrs_xgb\u001b[0m\u001b[1;33m.\u001b[0m\u001b[0mbest_params_\u001b[0m\u001b[1;33m)\u001b[0m\u001b[1;33m\u001b[0m\u001b[1;33m\u001b[0m\u001b[0m\n",
      "\u001b[1;31mAttributeError\u001b[0m: 'KNeighborsClassifier' object has no attribute 'best_params_'"
     ]
    }
   ],
   "source": [
    "print(\"Best parameters for KNN:\", knn.best_params_)\n",
    "print(\"Best parameters for Decision Tree:\", dt.best_params_)\n",
    "print(\"Best parameters for Random Forest:\", rf.best_params_)\n",
    "print(\"Best parameters for AdaBoost:\", ada.best_params_)\n",
    "print(\"Best parameters for XGBoost:\", rs_xgb.best_params_)"
   ]
  },
  {
   "cell_type": "code",
   "execution_count": null,
   "metadata": {
    "ExecuteTime": {
     "end_time": "2021-07-10T17:54:30.497649Z",
     "start_time": "2021-07-10T17:54:08.818Z"
    }
   },
   "outputs": [],
   "source": [
    "y_pred_rf= rf.predict(X_test)\n",
    "print(classification_report(y_test, y_pred_rf))"
   ]
  },
  {
   "cell_type": "code",
   "execution_count": null,
   "metadata": {
    "ExecuteTime": {
     "end_time": "2021-07-10T17:54:30.498632Z",
     "start_time": "2021-07-10T17:54:08.821Z"
    }
   },
   "outputs": [],
   "source": [
    "grid_knn.fit(X_tr, y_train)\n",
    "grid_dt.fit(X_tr, y_train)\n",
    "grid_rf.fit(X_tr, y_train)\n",
    "grid_ada.fit(X_tr, y_train)\n",
    "rs_xgb.fit(X_tr, y_train)\n",
    "\n",
    "print(\"Best parameters for KNN:\", grid_knn.best_params_)\n",
    "print(\"Best parameters for Decision Tree:\", grid_dt.best_params_)\n",
    "print(\"Best parameters for Random Forest:\", grid_rf.best_params_)\n",
    "print(\"Best parameters for AdaBoost:\", grid_ada.best_params_)\n",
    "print(\"Best parameters for XGBoost:\", rs_xgb.best_params_)\n",
    "\n",
    "\n",
    "lr = LogisticRegression(random_state=42)\n",
    "dt = DecisionTreeClassifier(criterion='entropy', max_depth=42, min_samples_leaf=1, random_state=42)\n",
    "knn = KNeighborsClassifier(n_neighbors=1)\n",
    "rf = RandomForestClassifier(n_estimators=100, min_samples_leaf=2, random_state=42)\n",
    "ada = AdaBoostClassifier(n_estimators= 600, learning_rate= 1 )\n",
    "xgb = XGBClassifier(n_estimators= 250, learning_rate= 0.8)\n",
    "\n",
    "#let's also apply bagging and boosting\n",
    "bagging = BaggingClassifier(DecisionTreeClassifier(criterion='entropy', max_depth=46, min_samples_leaf=2, random_state=42),\n",
    "                           n_estimators = 100, random_state = 42)\n",
    "bagging.fit(X_tr, y_train)"
   ]
  },
  {
   "cell_type": "code",
   "execution_count": null,
   "metadata": {
    "ExecuteTime": {
     "end_time": "2021-07-10T17:54:30.499627Z",
     "start_time": "2021-07-10T17:54:08.824Z"
    }
   },
   "outputs": [],
   "source": [
    "classifiers = [('Logistic Regression', lr), ('K Nearest Neighbours', knn),\n",
    "               ('Decision Tree', dt), ('Random Forest', rf), ('AdaBoost', ada),\n",
    "              ('Bagging Classifier', bagging), ('XGBoost', xgb)]\n",
    "\n",
    "for classifier_name, classifier in classifiers:\n",
    " \n",
    "    # Fit clf to the training set\n",
    "    classifier.fit(X_tr, y_train)    \n",
    "   \n",
    "    # Predict y_pred\n",
    "    y_pred = classifier.predict(X_te)\n",
    "    accuracy = accuracy_score(y_test,y_pred)\n",
    "    \n",
    "\n",
    "   \n",
    "    # Evaluate clf's accuracy on the test set\n",
    "    print('{:s} : {:.2f}'.format(classifier_name, accuracy))"
   ]
  },
  {
   "cell_type": "code",
   "execution_count": null,
   "metadata": {
    "ExecuteTime": {
     "end_time": "2021-07-10T17:54:30.501626Z",
     "start_time": "2021-07-10T17:54:08.827Z"
    }
   },
   "outputs": [],
   "source": [
    "y_pred_rf= rf.predict(X_te)\n",
    "print(classification_report(y_test, y_pred_rf))"
   ]
  },
  {
   "cell_type": "code",
   "execution_count": null,
   "metadata": {
    "ExecuteTime": {
     "end_time": "2021-07-10T17:54:30.503625Z",
     "start_time": "2021-07-10T17:54:08.830Z"
    }
   },
   "outputs": [],
   "source": [
    "grid_knn.fit(X_tr_scaled, y_train)\n",
    "grid_dt.fit(X_tr_scaled, y_train)\n",
    "grid_rf.fit(X_tr_scaled, y_train)\n",
    "grid_ada.fit(X_tr_scaled, y_train)\n",
    "rs_xgb.fit(X_tr_scaled, y_train)\n",
    "\n",
    "print(\"Best parameters for KNN:\", grid_knn.best_params_)\n",
    "print(\"Best parameters for Decision Tree:\", grid_dt.best_params_)\n",
    "print(\"Best parameters for Random Forest:\", grid_rf.best_params_)\n",
    "print(\"Best parameters for AdaBoost:\", grid_ada.best_params_)\n",
    "print(\"Best parameters for XGBoost:\", rs_xgb.best_params_)\n",
    "\n",
    "lr = LogisticRegression(random_state=42)\n",
    "dt = DecisionTreeClassifier(criterion='entropy',\n",
    "                            max_depth=42,\n",
    "                            min_samples_leaf=1,\n",
    "                            random_state=42)\n",
    "knn = KNeighborsClassifier(n_neighbors=1)\n",
    "rf = RandomForestClassifier(n_estimators=100,\n",
    "                            min_samples_leaf=2,\n",
    "                            random_state=42)\n",
    "ada = AdaBoostClassifier(n_estimators=600, learning_rate=1)\n",
    "xgb = XGBClassifier(n_estimators=250, learning_rate=0.8)\n",
    "\n",
    "#let's also apply bagging and boosting\n",
    "bagging = BaggingClassifier(DecisionTreeClassifier(criterion='entropy',\n",
    "                                                   max_depth=46,\n",
    "                                                   min_samples_leaf=2,\n",
    "                                                   random_state=42),\n",
    "                            n_estimators=100,\n",
    "                            random_state=42)\n",
    "bagging.fit(X_tr_scaled, y_train)"
   ]
  },
  {
   "cell_type": "code",
   "execution_count": null,
   "metadata": {
    "ExecuteTime": {
     "end_time": "2021-07-10T17:54:30.504617Z",
     "start_time": "2021-07-10T17:54:08.833Z"
    }
   },
   "outputs": [],
   "source": [
    "for classifier_name, classifier in classifiers:\n",
    " \n",
    "    # Fit clf to the training set\n",
    "    classifier.fit(X_tr_scaled, y_train)    \n",
    "   \n",
    "    # Predict y_pred\n",
    "    y_pred = classifier.predict(X_te_scaled)\n",
    "    accuracy = accuracy_score(y_test,y_pred)\n",
    "    \n",
    "\n",
    "   \n",
    "    # Evaluate clf's accuracy on the test set\n",
    "    print('{:s} : {:.2f}'.format(classifier_name, accuracy))"
   ]
  }
 ],
 "metadata": {
  "hide_input": false,
  "kernelspec": {
   "display_name": "Python 3",
   "language": "python",
   "name": "python3"
  },
  "language_info": {
   "codemirror_mode": {
    "name": "ipython",
    "version": 3
   },
   "file_extension": ".py",
   "mimetype": "text/x-python",
   "name": "python",
   "nbconvert_exporter": "python",
   "pygments_lexer": "ipython3",
   "version": "3.8.10"
  },
  "toc": {
   "base_numbering": 1,
   "nav_menu": {},
   "number_sections": true,
   "sideBar": true,
   "skip_h1_title": false,
   "title_cell": "Table of Contents",
   "title_sidebar": "Contents",
   "toc_cell": true,
   "toc_position": {
    "height": "calc(100% - 180px)",
    "left": "10px",
    "top": "150px",
    "width": "345.969px"
   },
   "toc_section_display": true,
   "toc_window_display": true
  },
  "toc-autonumbering": true,
  "toc-showcode": false,
  "toc-showmarkdowntxt": false,
  "toc-showtags": false,
  "varInspector": {
   "cols": {
    "lenName": 16,
    "lenType": 16,
    "lenVar": 40
   },
   "kernels_config": {
    "python": {
     "delete_cmd_postfix": "",
     "delete_cmd_prefix": "del ",
     "library": "var_list.py",
     "varRefreshCmd": "print(var_dic_list())"
    },
    "r": {
     "delete_cmd_postfix": ") ",
     "delete_cmd_prefix": "rm(",
     "library": "var_list.r",
     "varRefreshCmd": "cat(var_dic_list()) "
    }
   },
   "types_to_exclude": [
    "module",
    "function",
    "builtin_function_or_method",
    "instance",
    "_Feature"
   ],
   "window_display": false
  }
 },
 "nbformat": 4,
 "nbformat_minor": 4
}
