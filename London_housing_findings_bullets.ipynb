{
 "cells": [
  {
   "cell_type": "markdown",
   "metadata": {},
   "source": [
    "# Springboard Data Science Career Track Unit 4 Challenge - Tier 3 Complete\n",
    "\n",
    "## The Data Science Pipeline\n",
    "\n",
    "Data Science projects stages:\n",
    "1. Sourcing and loading \n",
    "2. Cleaning, transforming, and visualizing \n",
    "3. Modeling \n",
    "4. Evaluating and concluding \n",
    "\n",
    "\n",
    "### 1. Sourcing and Loading \n",
    "\n",
    "- Simple step\n",
    "- Consolidated web data source with good completeness and decent variable naming\n",
    "\n",
    "\n",
    "### 2. Cleaning, transforming, and visualizing\n",
    "**2.1. Exploring your data** \n",
    "\n",
    "- Some columns with naming out of the problem context (\"Unnamed\").\n",
    "     - Index column\n",
    "     - NaN values\n",
    "- Data table was transposed (wide)\n",
    "\n",
    "**2.2. Cleaning the data**\n",
    "\n",
    "- Table was transposed to a long table\n",
    "- Header adjusted (readability and maintenance)\n",
    "- Column of values converted to float (type adjustment)\n",
    "- Removal of NaN rows\n",
    "- Exclusion of 16 extra columns of regions not belonging to the desired borough output (32 columns).\n",
    "- Prior to exclusion those columns were validated\n",
    "    - Shifted header? No.\n",
    "    - Relevant data? No.\n",
    "\n",
    "**2.6. Visualizing the data**\n",
    "\n",
    "- Line trending\n",
    "\n",
    "\n",
    "**3. Modeling**\n",
    "\n",
    "- Delta histogram (20 years)\n",
    "\n",
    "\n",
    "### 4. Conclusion\n",
    "\n",
    "- Hackney Borough had the highest increase: 620% from 1998 to 2018.\n",
    "\n",
    "- All top 15 had an increase above 500% and the difference among them is small.\n",
    "\n",
    "#### Follow up\n",
    "\n",
    "* Find the years with the highest year-over-year variation.\n",
    "* 2008 Real Estate Crisis - impact\n",
    "    * Linear regression with data prior to 2008 - forecasted value to 2018 vs. realized. Did the market recover the \"momentum\"?\n",
    "* Top 3 growth vs. Bottom 3: similarities and differences? What is a common sense inside each cluster?"
   ]
  }
 ],
 "metadata": {
  "kernelspec": {
   "display_name": "Python 3",
   "language": "python",
   "name": "python3"
  },
  "language_info": {
   "codemirror_mode": {
    "name": "ipython",
    "version": 3
   },
   "file_extension": ".py",
   "mimetype": "text/x-python",
   "name": "python",
   "nbconvert_exporter": "python",
   "pygments_lexer": "ipython3",
   "version": "3.8.5"
  }
 },
 "nbformat": 4,
 "nbformat_minor": 4
}
